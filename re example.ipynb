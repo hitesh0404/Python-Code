{
 "cells": [
  {
   "cell_type": "code",
   "execution_count": 7,
   "metadata": {},
   "outputs": [],
   "source": [
    "\n",
    "import re\n",
    "def rep(old):\n",
    "    old=str(old)\n",
    "    new='src=\"{% static \\''+old[5:-1]+'\\' %}\"'\n",
    "    return  str(new)\n",
    "\n",
    "def re_str_for_src(address,pattern=r'''src=\"([^\"]*)\"'''):\n",
    "    with open(address,'r+') as file:\n",
    "        text = file.read()\n",
    "        new_text=''\n",
    "        count=0\n",
    "        extracted_re_iterable=re.finditer(pattern,text)\n",
    "        previous_end=0\n",
    "        for i in extracted_re_iterable:\n",
    "            count+=1\n",
    "            temp_to=rep(i.group())\n",
    "            new_text=new_text+text[previous_end:i.start()]+temp_to\n",
    "            previous_end=i.end()\n",
    "        new_text=new_text+text[previous_end:]\n",
    "        file.seek(0)\n",
    "        file.write(new_text)\n",
    "    return new_text\n",
    "\n"
   ]
  },
  {
   "cell_type": "code",
   "execution_count": null,
   "metadata": {},
   "outputs": [],
   "source": [
    "re_str_for_src(r\"C:\\Users\\admin\\Project\\karma-master\\MainProject\\templates\\index.html\")"
   ]
  },
  {
   "cell_type": "code",
   "execution_count": null,
   "metadata": {},
   "outputs": [],
   "source": [
    "\n",
    "import re\n",
    "def rep(old):\n",
    "    old=str(old)\n",
    "    new='href=\"{% static \\''+old[6:-1]+'\\' %}\"'\n",
    "    return  str(new)\n",
    "\n",
    "def href_replace(address,pattern=r'''a href=\"([^\"]*)\"'''):\n",
    "    with open(address,'r+') as file:\n",
    "        text = file.read()\n",
    "        new_text=''\n",
    "        count=0\n",
    "        extracted_re_iterable=re.finditer(pattern,text)\n",
    "        previous_end=0\n",
    "        for i in extracted_re_iterable:\n",
    "            count+=1\n",
    "            temp_to=rep(i.group())\n",
    "            new_text=new_text+text[previous_end:i.start()]+temp_to\n",
    "            previous_end=i.end()\n",
    "        new_text=new_text+text[previous_end:]\n",
    "        file.seek(0)\n",
    "        file.write(new_text)\n",
    "    return new_text\n"
   ]
  },
  {
   "cell_type": "code",
   "execution_count": null,
   "metadata": {},
   "outputs": [],
   "source": [
    "href_replace(r\"C:\\Users\\admin\\Project\\karma-master\\MainProject\\templates\\index.html\")"
   ]
  },
  {
   "cell_type": "code",
   "execution_count": null,
   "metadata": {},
   "outputs": [],
   "source": []
  }
 ],
 "metadata": {
  "kernelspec": {
   "display_name": "Python 3",
   "language": "python",
   "name": "python3"
  },
  "language_info": {
   "codemirror_mode": {
    "name": "ipython",
    "version": 3
   },
   "file_extension": ".py",
   "mimetype": "text/x-python",
   "name": "python",
   "nbconvert_exporter": "python",
   "pygments_lexer": "ipython3",
   "version": "3.12.3"
  }
 },
 "nbformat": 4,
 "nbformat_minor": 2
}
