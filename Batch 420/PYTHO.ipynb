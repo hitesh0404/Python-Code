{
 "cells": [
  {
   "cell_type": "markdown",
   "metadata": {},
   "source": [
    "<h1>\n",
    "Python\n",
    "</h1>\n",
    "<h3>Variables</h3>"
   ]
  },
  {
   "cell_type": "code",
   "execution_count": 3,
   "metadata": {},
   "outputs": [],
   "source": [
    "a=10"
   ]
  },
  {
   "cell_type": "markdown",
   "metadata": {},
   "source": [
    "<h3>Operator</h3>\n",
    "\n",
    "Math Operator\n",
    "<pre>\n",
    "+\n",
    "-\n",
    "/\n",
    "//\n",
    "*\n",
    "**\n",
    "%\n",
    "\n",
    "</pre>"
   ]
  },
  {
   "cell_type": "code",
   "execution_count": 55,
   "metadata": {},
   "outputs": [
    {
     "ename": "ValueError",
     "evalue": "invalid literal for int() with base 10: ''",
     "output_type": "error",
     "traceback": [
      "\u001b[1;31m---------------------------------------------------------------------------\u001b[0m",
      "\u001b[1;31mValueError\u001b[0m                                Traceback (most recent call last)",
      "Cell \u001b[1;32mIn[55], line 1\u001b[0m\n\u001b[1;32m----> 1\u001b[0m a \u001b[38;5;241m=\u001b[39m \u001b[38;5;28;43mint\u001b[39;49m\u001b[43m(\u001b[49m\u001b[38;5;28;43minput\u001b[39;49m\u001b[43m(\u001b[49m\u001b[38;5;124;43m'\u001b[39;49m\u001b[38;5;124;43menter number for a\u001b[39;49m\u001b[38;5;124;43m'\u001b[39;49m\u001b[43m)\u001b[49m\u001b[43m)\u001b[49m\n\u001b[0;32m      2\u001b[0m b \u001b[38;5;241m=\u001b[39m \u001b[38;5;28mint\u001b[39m(\u001b[38;5;28minput\u001b[39m(\u001b[38;5;124m'\u001b[39m\u001b[38;5;124menter number for b\u001b[39m\u001b[38;5;124m'\u001b[39m))\n\u001b[0;32m      3\u001b[0m \u001b[38;5;28mprint\u001b[39m(\u001b[38;5;124mf\u001b[39m\u001b[38;5;124m'\u001b[39m\u001b[38;5;124ma=\u001b[39m\u001b[38;5;132;01m{\u001b[39;00ma\u001b[38;5;132;01m}\u001b[39;00m\u001b[38;5;130;01m\\n\u001b[39;00m\u001b[38;5;124mb=\u001b[39m\u001b[38;5;132;01m{\u001b[39;00mb\u001b[38;5;132;01m}\u001b[39;00m\u001b[38;5;124m'\u001b[39m)\n",
      "\u001b[1;31mValueError\u001b[0m: invalid literal for int() with base 10: ''"
     ]
    }
   ],
   "source": [
    "a = int(input('enter number for a'))\n",
    "b = int(input('enter number for b'))\n",
    "print(f'a={a}\\nb={b}')\n",
    "print(f\"a+b={a+b}\")\n",
    "print(f\"a-b={a-b}\")\n",
    "print(f\"a/b={a/b:.3f}\")\n",
    "print(f\"a//b={a//b}\")\n",
    "print(f\"a*b={a*b}\")\n",
    "print(f\"a**b={a**b}\")\n",
    "print(f\"a%b={a%b}\")\n"
   ]
  },
  {
   "cell_type": "code",
   "execution_count": 29,
   "metadata": {},
   "outputs": [
    {
     "name": "stdout",
     "output_type": "stream",
     "text": [
      "12.000\n",
      "12\n",
      "hello\n",
      "3.143413E+06\n"
     ]
    }
   ],
   "source": [
    "print('%.3f'%12)\n",
    "print('%d'%12.5)\n",
    "print('%s'%'hello')\n",
    "print('%E'%3143413)\n"
   ]
  },
  {
   "cell_type": "code",
   "execution_count": 51,
   "metadata": {},
   "outputs": [
    {
     "data": {
      "text/plain": [
       "171"
      ]
     },
     "execution_count": 51,
     "metadata": {},
     "output_type": "execute_result"
    }
   ],
   "source": [
    "0xAB"
   ]
  },
  {
   "cell_type": "code",
   "execution_count": 48,
   "metadata": {},
   "outputs": [
    {
     "data": {
      "text/plain": [
       "10"
      ]
     },
     "execution_count": 48,
     "metadata": {},
     "output_type": "execute_result"
    }
   ],
   "source": [
    "0o12"
   ]
  },
  {
   "cell_type": "code",
   "execution_count": 50,
   "metadata": {},
   "outputs": [
    {
     "data": {
      "text/plain": [
       "4"
      ]
     },
     "execution_count": 50,
     "metadata": {},
     "output_type": "execute_result"
    }
   ],
   "source": [
    "0b100"
   ]
  },
  {
   "cell_type": "code",
   "execution_count": 62,
   "metadata": {},
   "outputs": [],
   "source": [
    "a=9\n",
    "b=10"
   ]
  },
  {
   "cell_type": "code",
   "execution_count": 63,
   "metadata": {},
   "outputs": [
    {
     "name": "stdout",
     "output_type": "stream",
     "text": [
      "a=9\n",
      "b=10\n",
      "a>b=False\n",
      "a<b=True\n",
      "a>=b=False\n",
      "a<=b=True\n",
      "a!=b=True\n",
      "a==b=False\n"
     ]
    }
   ],
   "source": [
    "print(f'a={a}\\nb={b}')\n",
    "print(f\"a>b={a>b}\")\n",
    "print(f\"a<b={a<b}\")\n",
    "print(f\"a>=b={a>=b}\")\n",
    "print(f\"a<=b={a<=b}\")\n",
    "print(f\"a!=b={a!=b}\")\n",
    "print(f\"a==b={a==b}\")\n"
   ]
  },
  {
   "cell_type": "code",
   "execution_count": 65,
   "metadata": {},
   "outputs": [
    {
     "name": "stdout",
     "output_type": "stream",
     "text": [
      "a is less then b\n",
      "end\n"
     ]
    }
   ],
   "source": [
    "if a<b:\n",
    "   print('a is less then b')\n",
    "else:\n",
    "   print('a is greater then b')\n",
    "print('end') \n"
   ]
  },
  {
   "cell_type": "code",
   "execution_count": 66,
   "metadata": {},
   "outputs": [],
   "source": [
    "a=20\n",
    "b=10"
   ]
  },
  {
   "cell_type": "code",
   "execution_count": null,
   "metadata": {},
   "outputs": [],
   "source": [
    "if a<b:\n",
    "   print('a is less then b')\n",
    "elif a==b:\n",
    "   print('a is equal to b')\n",
    "else:\n",
    "   print('a is greater then b')"
   ]
  },
  {
   "cell_type": "code",
   "execution_count": 71,
   "metadata": {},
   "outputs": [
    {
     "name": "stdout",
     "output_type": "stream",
     "text": [
      "you entered 56\n"
     ]
    }
   ],
   "source": [
    "print('you entered',int(input('enter value')))"
   ]
  },
  {
   "cell_type": "code",
   "execution_count": 75,
   "metadata": {},
   "outputs": [
    {
     "name": "stdout",
     "output_type": "stream",
     "text": [
      "now i am in else block\n",
      "0 is zero\n"
     ]
    }
   ],
   "source": [
    "num=int(input('Enter value to check '))\n",
    "if num<0:\n",
    "    print(num,'is negative number')\n",
    "else:\n",
    "    print('now i am in else block')\n",
    "    if num==0:\n",
    "        print(num,'is zero')\n",
    "    else:\n",
    "        print(num,'is positive number')"
   ]
  },
  {
   "cell_type": "code",
   "execution_count": 84,
   "metadata": {},
   "outputs": [
    {
     "data": {
      "text/plain": [
       "0"
      ]
     },
     "execution_count": 84,
     "metadata": {},
     "output_type": "execute_result"
    }
   ],
   "source": [
    "0%2            "
   ]
  },
  {
   "cell_type": "code",
   "execution_count": 85,
   "metadata": {},
   "outputs": [
    {
     "name": "stdout",
     "output_type": "stream",
     "text": [
      "0\n",
      "1\n"
     ]
    }
   ],
   "source": [
    "print(12%2)    #even result is 0\n",
    "print(13%2)    # odd result is 1"
   ]
  },
  {
   "cell_type": "code",
   "execution_count": 90,
   "metadata": {},
   "outputs": [
    {
     "name": "stdout",
     "output_type": "stream",
     "text": [
      "this not a odd nor even\n"
     ]
    }
   ],
   "source": [
    "num = int(input('enter num to check odd or even'))\n",
    "if num==0 or num ==1:\n",
    "    print('this not a odd nor even')\n",
    "else:\n",
    "    if num%2==0:\n",
    "        print('this is even')\n",
    "    else:\n",
    "        print('this is odd')"
   ]
  },
  {
   "cell_type": "markdown",
   "metadata": {},
   "source": [
    "<h3>False values</h3>\n",
    "<pre>\n",
    "''   # Empty String\n",
    "0     # Zero\n",
    "None  # None\n",
    "[] or {} or ()  #Empty non primitive Data Type    "
   ]
  },
  {
   "cell_type": "code",
   "execution_count": 18,
   "metadata": {},
   "outputs": [
    {
     "name": "stdout",
     "output_type": "stream",
     "text": [
      "world\n",
      "this\n"
     ]
    }
   ],
   "source": [
    "if '' or 0 or [] or {} or () or None:\n",
    "    print('hello')\n",
    "else:\n",
    "    print('world')\n",
    "print('this')"
   ]
  },
  {
   "cell_type": "code",
   "execution_count": 28,
   "metadata": {},
   "outputs": [
    {
     "name": "stdout",
     "output_type": "stream",
     "text": [
      "hello\n",
      "this\n"
     ]
    }
   ],
   "source": [
    "if  1<1 or 2<2 or 1>1 or 0<1 :\n",
    "    print('hello')\n",
    "else:\n",
    "    print('world')\n",
    "print('this')"
   ]
  },
  {
   "cell_type": "code",
   "execution_count": 34,
   "metadata": {},
   "outputs": [
    {
     "name": "stdout",
     "output_type": "stream",
     "text": [
      "Invalid input\n"
     ]
    }
   ],
   "source": [
    "x=1\n",
    "y=1\n",
    "if(x!=0 or x!=1 or y!=0 or y!=1):\n",
    "    print(\"Invalid input\")"
   ]
  },
  {
   "cell_type": "code",
   "execution_count": null,
   "metadata": {},
   "outputs": [],
   "source": [
    "[1,2,3,4]"
   ]
  },
  {
   "cell_type": "code",
   "execution_count": 36,
   "metadata": {},
   "outputs": [
    {
     "data": {
      "text/plain": [
       "0.30000000000000004"
      ]
     },
     "execution_count": 36,
     "metadata": {},
     "output_type": "execute_result"
    }
   ],
   "source": [
    "0.10000000000000 + 0.200000000000000000"
   ]
  },
  {
   "cell_type": "code",
   "execution_count": null,
   "metadata": {},
   "outputs": [],
   "source": [
    "year = int(input('enter Year'))\n",
    "if year%400:\n",
    "    print('leap year')\n",
    "else:\n",
    "    if year%4==0:\n",
    "        if year%100!=0:\n",
    "            print('leap Year')\n",
    "        else:\n",
    "            print('not a leap year')\n",
    "    else:\n",
    "        print('not a leap year')"
   ]
  },
  {
   "cell_type": "code",
   "execution_count": null,
   "metadata": {},
   "outputs": [],
   "source": [
    "year = int(input('enter Year'))\n",
    "if (year%400==0) or (year%4==0 and year%100!=0):\n",
    "    print('leap year')       \n",
    "else:\n",
    "    print('not a leap year')"
   ]
  },
  {
   "cell_type": "code",
   "execution_count": 38,
   "metadata": {},
   "outputs": [
    {
     "name": "stdout",
     "output_type": "stream",
     "text": [
      "not a leap year\n"
     ]
    }
   ],
   "source": [
    "year = int(input('enter Year'))\n",
    "\n",
    "if (year%400==0) or (year%4==0 and year%100!=0):\n",
    "    result ='leap year'  \n",
    "else:\n",
    "    result ='not a leap year'\n",
    "print(result)"
   ]
  },
  {
   "cell_type": "code",
   "execution_count": 39,
   "metadata": {},
   "outputs": [
    {
     "data": {
      "text/plain": [
       "'not a leap year'"
      ]
     },
     "execution_count": 39,
     "metadata": {},
     "output_type": "execute_result"
    }
   ],
   "source": [
    "result"
   ]
  },
  {
   "cell_type": "code",
   "execution_count": null,
   "metadata": {},
   "outputs": [],
   "source": [
    "ticket_cost = 100\n",
    "ticket_cost = 10\n",
    "cls = 1\n",
    "cls = 2"
   ]
  },
  {
   "cell_type": "code",
   "execution_count": 44,
   "metadata": {},
   "outputs": [],
   "source": [
    "cls =int(input())\n",
    "if cls == 1:\n",
    "    ticket_cost=100\n",
    "else:\n",
    "    ticket_cost=10"
   ]
  },
  {
   "cell_type": "code",
   "execution_count": 45,
   "metadata": {},
   "outputs": [
    {
     "data": {
      "text/plain": [
       "10"
      ]
     },
     "execution_count": 45,
     "metadata": {},
     "output_type": "execute_result"
    }
   ],
   "source": [
    "cls =int(input())\n",
    "\n",
    "ticket_cost = 100  if cls==1 else 10"
   ]
  },
  {
   "cell_type": "code",
   "execution_count": null,
   "metadata": {},
   "outputs": [],
   "source": [
    "result ='leap year' if (year%400==0) or (year%4==0 and year%100!=0) else 'not a leap year'"
   ]
  },
  {
   "cell_type": "markdown",
   "metadata": {},
   "source": [
    "<h2>\n",
    "LOOP (iterative Statements)\n",
    "</h2>\n",
    "<pre>\n",
    "posible iteration count of any loop can be \n",
    "\n",
    "0\n",
    "n\n",
    "infi\n",
    "\n",
    "\n",
    "while  loop example with countdown from 10 to 1\n",
    "num=10\n",
    "while(num>0):\n",
    "\tprint(num)\n",
    "\tnum = num-1\n",
    "\n",
    "\n",
    "we can control loop with these three steps\n",
    "assignment            #num=10\n",
    "condition             # while (num>0)\n",
    "state change or inrement/decrement          # num=num-1\n",
    "\n",
    "</pre> "
   ]
  },
  {
   "cell_type": "code",
   "execution_count": 6,
   "metadata": {},
   "outputs": [
    {
     "name": "stdout",
     "output_type": "stream",
     "text": [
      "10\n",
      "Loop finished\n",
      "Loop\n"
     ]
    }
   ],
   "source": [
    "num=10\n",
    "while num>9:\n",
    "    print(num)\n",
    "    num-=1\n",
    "else:\n",
    "    print(\"Loop finished\")\n",
    "print('Loop')"
   ]
  },
  {
   "cell_type": "markdown",
   "metadata": {},
   "source": [
    "<h3>\n",
    "Range\n",
    "</h3>\n",
    "\n",
    "<pre>\n",
    "(\n",
    "    start,\n",
    "    stop,   # excluded\n",
    "    step    #distance\n",
    ")\n",
    "(\n",
    "    start,  # assignment\n",
    "    stop,   # condition\n",
    "    step    # state change or incre/decre\n",
    ")\n",
    "\n",
    "</pre>"
   ]
  },
  {
   "cell_type": "code",
   "execution_count": 12,
   "metadata": {},
   "outputs": [
    {
     "name": "stdout",
     "output_type": "stream",
     "text": [
      "<class 'range'>\n"
     ]
    }
   ],
   "source": []
  },
  {
   "cell_type": "code",
   "execution_count": 13,
   "metadata": {},
   "outputs": [
    {
     "name": "stdout",
     "output_type": "stream",
     "text": [
      "1\n",
      "3\n",
      "5\n",
      "7\n",
      "9\n"
     ]
    }
   ],
   "source": [
    "for i in range(1,11,2):\n",
    "    print(i)"
   ]
  },
  {
   "cell_type": "code",
   "execution_count": 17,
   "metadata": {},
   "outputs": [
    {
     "name": "stdout",
     "output_type": "stream",
     "text": [
      "2\n",
      "4\n",
      "6\n",
      "8\n",
      "10\n"
     ]
    }
   ],
   "source": [
    "num=2\n",
    "while num<11:\n",
    "    print(num)\n",
    "    num+=2"
   ]
  },
  {
   "cell_type": "markdown",
   "metadata": {},
   "source": []
  },
  {
   "cell_type": "code",
   "execution_count": 19,
   "metadata": {},
   "outputs": [
    {
     "name": "stdout",
     "output_type": "stream",
     "text": [
      "vwr\n",
      "hi\n",
      "hello\n",
      "this is \n",
      "while\n",
      "loop\n",
      "hello world\n",
      "this\n",
      "exit\n"
     ]
    }
   ],
   "source": [
    "msg=''\n",
    "while msg!='exit':\n",
    "    msg=input('Enter your message: ')\n",
    "    print(msg)"
   ]
  },
  {
   "cell_type": "code",
   "execution_count": 20,
   "metadata": {},
   "outputs": [],
   "source": [
    "msg=input('enter your first msg: ')\n",
    "input_msg=msg\n",
    "while msg!='exit':\n",
    "    msg = input((f'your last msg was {input_msg} what next: '))\n",
    "    input_msg = input_msg + ' '+  msg"
   ]
  },
  {
   "cell_type": "code",
   "execution_count": null,
   "metadata": {},
   "outputs": [],
   "source": [
    "msg=input('enter your first msg: ')                                        #assignment\n",
    "while msg!='exit':                                                         #condition\n",
    "    msg = input((f'your last msg was {msg} what next: '))                  #state change\n",
    "    msg = msg + ' '+  msg"
   ]
  },
  {
   "cell_type": "code",
   "execution_count": 5,
   "metadata": {},
   "outputs": [
    {
     "name": "stdout",
     "output_type": "stream",
     "text": [
      "0\n",
      "1\n",
      "2\n",
      "3\n",
      "4\n"
     ]
    }
   ],
   "source": [
    "for i in range(5):#range(0,5,1)\n",
    "    print(i)"
   ]
  },
  {
   "cell_type": "markdown",
   "metadata": {},
   "source": [
    "<h2>Indexing</h2>\n",
    "\n",
    "<pre>\n",
    "H E L L O   W O R L D\n",
    "0 1 2 3 4 5 6 7 8 9 10           INDEX STARTS WITH 0\n",
    "1 2 3 4 5 6 7 8 9 10 11          LENGTH START WITH 1\n",
    "</pre>"
   ]
  },
  {
   "cell_type": "code",
   "execution_count": 11,
   "metadata": {},
   "outputs": [
    {
     "name": "stdout",
     "output_type": "stream",
     "text": [
      "11\n"
     ]
    },
    {
     "data": {
      "text/plain": [
       "10"
      ]
     },
     "execution_count": 11,
     "metadata": {},
     "output_type": "execute_result"
    }
   ],
   "source": [
    "print(len('HELLO WORLD'))\n",
    "'HELLO WORLD'.index('D')"
   ]
  },
  {
   "cell_type": "markdown",
   "metadata": {},
   "source": [
    "<h2>Iterator</h2>\n",
    "<p>The variable which will hold one value or element of iterable at a time while iterating(traversing)</p>\n",
    "<b>example   i,j,k any variable</b>\n",
    "<h3>Iterable</h3>\n",
    "<p>Iterable is the Main Object Which holds multiple element in a sequence so iterator can iterate</p>\n",
    "<b>example   String, list, Tuple, </b>"
   ]
  },
  {
   "cell_type": "code",
   "execution_count": 13,
   "metadata": {},
   "outputs": [
    {
     "name": "stdout",
     "output_type": "stream",
     "text": [
      "hello world"
     ]
    }
   ],
   "source": [
    "for i in 'hello world':\n",
    "    print(i,end='')"
   ]
  },
  {
   "cell_type": "code",
   "execution_count": 17,
   "metadata": {},
   "outputs": [
    {
     "name": "stdout",
     "output_type": "stream",
     "text": [
      "hi hp how are you\n",
      "hi rm how are you\n",
      "hi sk how are you\n",
      "hi pj how are you\n",
      "hi pi how are you\n",
      "hi su how are you\n"
     ]
    }
   ],
   "source": [
    "a=['hp','rm','sk','pj','pi','su']\n",
    "for i in a:\n",
    "    print('hi '+i+ ' how are you')"
   ]
  },
  {
   "cell_type": "code",
   "execution_count": 43,
   "metadata": {},
   "outputs": [],
   "source": [
    "i =iter('helloworld')"
   ]
  },
  {
   "cell_type": "code",
   "execution_count": 41,
   "metadata": {},
   "outputs": [
    {
     "data": {
      "text/plain": [
       "'d'"
      ]
     },
     "execution_count": 41,
     "metadata": {},
     "output_type": "execute_result"
    }
   ],
   "source": [
    "next(i)"
   ]
  },
  {
   "cell_type": "code",
   "execution_count": 44,
   "metadata": {},
   "outputs": [
    {
     "ename": "TypeError",
     "evalue": "'int' object is not iterable",
     "output_type": "error",
     "traceback": [
      "\u001b[1;31m---------------------------------------------------------------------------\u001b[0m",
      "\u001b[1;31mTypeError\u001b[0m                                 Traceback (most recent call last)",
      "Cell \u001b[1;32mIn[44], line 1\u001b[0m\n\u001b[1;32m----> 1\u001b[0m \u001b[38;5;28;43;01mfor\u001b[39;49;00m\u001b[43m \u001b[49m\u001b[43mi\u001b[49m\u001b[43m \u001b[49m\u001b[38;5;129;43;01min\u001b[39;49;00m\u001b[43m \u001b[49m\u001b[38;5;241;43m10\u001b[39;49m\u001b[43m:\u001b[49m\n\u001b[0;32m      2\u001b[0m \u001b[43m    \u001b[49m\u001b[38;5;28;43mprint\u001b[39;49m\u001b[43m(\u001b[49m\u001b[43mi\u001b[49m\u001b[43m)\u001b[49m\n",
      "\u001b[1;31mTypeError\u001b[0m: 'int' object is not iterable"
     ]
    }
   ],
   "source": [
    "for i in 10:\n",
    "    print(i)"
   ]
  },
  {
   "cell_type": "code",
   "execution_count": 53,
   "metadata": {},
   "outputs": [
    {
     "data": {
      "text/plain": [
       "'4'"
      ]
     },
     "execution_count": 53,
     "metadata": {},
     "output_type": "execute_result"
    }
   ],
   "source": [
    "a='0123456789'\n",
    "a[4]"
   ]
  },
  {
   "cell_type": "code",
   "execution_count": 60,
   "metadata": {},
   "outputs": [
    {
     "name": "stdout",
     "output_type": "stream",
     "text": [
      "hello"
     ]
    }
   ],
   "source": [
    "a='hello world'\n",
    "for i in range(5):\n",
    "    print(a[i],end ='')"
   ]
  },
  {
   "cell_type": "code",
   "execution_count": 62,
   "metadata": {},
   "outputs": [
    {
     "name": "stdout",
     "output_type": "stream",
     "text": [
      "hello\n"
     ]
    }
   ],
   "source": [
    "print(a[0:5]  )             #slice "
   ]
  },
  {
   "cell_type": "code",
   "execution_count": 65,
   "metadata": {},
   "outputs": [
    {
     "name": "stdout",
     "output_type": "stream",
     "text": [
      "0\n"
     ]
    }
   ],
   "source": [
    "print('0')"
   ]
  },
  {
   "cell_type": "code",
   "execution_count": 68,
   "metadata": {},
   "outputs": [
    {
     "name": "stdout",
     "output_type": "stream",
     "text": [
      "0 P\n",
      "1 y\n",
      "2 t\n",
      "3 h\n",
      "4 o\n",
      "5 n\n",
      "6  \n",
      "7 i\n",
      "8 s\n",
      "9  \n",
      "10 a\n",
      "11 w\n",
      "12 e\n",
      "13 s\n",
      "14 o\n",
      "15 m\n",
      "16 e\n"
     ]
    }
   ],
   "source": [
    "b='Python is awesome'\n",
    "for i,v in enumerate(b):\n",
    "    print(i,v)"
   ]
  },
  {
   "cell_type": "code",
   "execution_count": 73,
   "metadata": {},
   "outputs": [
    {
     "name": "stdout",
     "output_type": "stream",
     "text": [
      "awesome"
     ]
    }
   ],
   "source": [
    "for i in range(10,17):\n",
    "    print(b[i],end='')"
   ]
  },
  {
   "cell_type": "code",
   "execution_count": 74,
   "metadata": {},
   "outputs": [
    {
     "data": {
      "text/plain": [
       "'Python is awesome'"
      ]
     },
     "execution_count": 74,
     "metadata": {},
     "output_type": "execute_result"
    }
   ],
   "source": [
    "b"
   ]
  },
  {
   "cell_type": "code",
   "execution_count": 81,
   "metadata": {},
   "outputs": [
    {
     "name": "stdout",
     "output_type": "stream",
     "text": [
      "a w e s o m e "
     ]
    }
   ],
   "source": [
    "b[10]+b[11]+b[12]+b[13]+b[14]+b[15]+b[16]\n",
    "for i in range(10,17):\n",
    "    print(b[i],end=' ')"
   ]
  },
  {
   "cell_type": "code",
   "execution_count": 71,
   "metadata": {},
   "outputs": [
    {
     "name": "stdout",
     "output_type": "stream",
     "text": [
      "Python is some"
     ]
    }
   ],
   "source": [
    "for i,v in enumerate(b):\n",
    "    if i in range(10,13):\n",
    "        continue\n",
    "    else:\n",
    "        print(v,end='')"
   ]
  },
  {
   "cell_type": "code",
   "execution_count": 11,
   "metadata": {},
   "outputs": [
    {
     "name": "stdout",
     "output_type": "stream",
     "text": [
      "1\n",
      "2\n",
      "3\n",
      "4\n"
     ]
    }
   ],
   "source": [
    "for i in range(1,11,1):\n",
    "    if i == 5:\n",
    "        break\n",
    "    print(i)"
   ]
  },
  {
   "cell_type": "code",
   "execution_count": null,
   "metadata": {},
   "outputs": [],
   "source": [
    "msg=input('enter your first msg: ')\n",
    "while msg[-4:]!='exit':\n",
    "   msg = msg + ' '+ input((f'your last msg was {msg} what next: '))\n",
    "\n",
    "\n",
    "\n",
    "\n",
    "msg=input('enter your first msg: ')    #hi\n",
    "while True:\n",
    "    if msg[-4:]=='exit':           \n",
    "        break\n",
    "    msg = msg + ' '+ input((f'your last msg was {msg} what next: '))\n",
    "            \n",
    "\n",
    "msg=input('MySQL[DBname]> ')    #hi\n",
    "while True:\n",
    "    if msg[-1:]==';':           \n",
    "        break\n",
    "    msg = msg + ' '+ input((f'->'))\n",
    "            \n"
   ]
  },
  {
   "cell_type": "code",
   "execution_count": 12,
   "metadata": {},
   "outputs": [
    {
     "name": "stdout",
     "output_type": "stream",
     "text": [
      "0\n",
      "1\n",
      "2\n",
      "3\n",
      "4\n",
      "5\n",
      "6\n",
      "7\n",
      "8\n",
      "9\n"
     ]
    }
   ],
   "source": [
    "i=0\n",
    "while True:\n",
    "    if i==10:\n",
    "        break\n",
    "    print(i)\n",
    "    i=i+1"
   ]
  },
  {
   "cell_type": "code",
   "execution_count": 22,
   "metadata": {},
   "outputs": [
    {
     "name": "stdout",
     "output_type": "stream",
     "text": [
      "51\n",
      "61\n",
      "71\n",
      "81\n",
      "skip 91\n",
      "101\n"
     ]
    }
   ],
   "source": [
    "i=41\n",
    "while True:\n",
    "    i=i+10\n",
    "    if i >101:\n",
    "        break\n",
    "    elif i==91:\n",
    "        print('skip 91')\n",
    "        continue\n",
    "    print(i)\n"
   ]
  },
  {
   "cell_type": "markdown",
   "metadata": {},
   "source": [
    "skip 35\n",
    "42\n",
    "skip 49\n",
    "56\n",
    "skip 63\n",
    "70 \n",
    "skip 77\n",
    "84"
   ]
  },
  {
   "cell_type": "code",
   "execution_count": 23,
   "metadata": {},
   "outputs": [
    {
     "name": "stdout",
     "output_type": "stream",
     "text": [
      "skip 35\n",
      "42\n",
      "skip 49\n",
      "56\n",
      "skip 63\n",
      "70\n",
      "skip 77\n",
      "84\n"
     ]
    }
   ],
   "source": [
    "i=28\n",
    "while True:        #28\n",
    "    i=i+7          #35      #42\n",
    "    if i>84:       #False   #False\n",
    "        break\n",
    "    elif i%2==1:   #True     #False\n",
    "        print('skip',i)\n",
    "        continue\n",
    "    print(i)"
   ]
  },
  {
   "cell_type": "code",
   "execution_count": null,
   "metadata": {},
   "outputs": [],
   "source": [
    "start with 151\n",
    "reach to 41\n",
    "step -9\n",
    "even          skip even num\n",
    "odd\n",
    "for and while both"
   ]
  },
  {
   "cell_type": "code",
   "execution_count": 24,
   "metadata": {},
   "outputs": [
    {
     "name": "stdout",
     "output_type": "stream",
     "text": [
      "151\n",
      "skip even  142\n",
      "133\n",
      "skip even  124\n",
      "115\n",
      "skip even  106\n",
      "97\n",
      "skip even  88\n",
      "79\n",
      "skip even  70\n",
      "61\n",
      "skip even  52\n",
      "43\n"
     ]
    }
   ],
   "source": [
    "for i in range(151,1,-9):\n",
    "    if i<41:    \n",
    "        break\n",
    "    elif i%2==0:\n",
    "        print('skip even ',i)\n",
    "        continue\n",
    "    print(i)"
   ]
  },
  {
   "cell_type": "code",
   "execution_count": 3,
   "metadata": {},
   "outputs": [
    {
     "ename": "KeyboardInterrupt",
     "evalue": "",
     "output_type": "error",
     "traceback": [
      "\u001b[1;31m---------------------------------------------------------------------------\u001b[0m",
      "\u001b[1;31mKeyboardInterrupt\u001b[0m                         Traceback (most recent call last)",
      "Cell \u001b[1;32mIn[3], line 1\u001b[0m\n\u001b[1;32m----> 1\u001b[0m \u001b[38;5;28;01mwhile\u001b[39;00m(i):\n\u001b[0;32m      3\u001b[0m     \u001b[38;5;28;01mpass\u001b[39;00m\n\u001b[0;32m      4\u001b[0m \u001b[38;5;28mprint\u001b[39m(\u001b[38;5;124m'\u001b[39m\u001b[38;5;124mhello\u001b[39m\u001b[38;5;124m'\u001b[39m)\n",
      "\u001b[1;31mKeyboardInterrupt\u001b[0m: "
     ]
    }
   ],
   "source": [
    "while(i):\n",
    "    pass\n",
    "print('hello')"
   ]
  },
  {
   "cell_type": "code",
   "execution_count": 2,
   "metadata": {},
   "outputs": [
    {
     "name": "stdout",
     "output_type": "stream",
     "text": [
      "hello\n"
     ]
    }
   ],
   "source": [
    "for i in range(10):\n",
    "    pass\n",
    "print('hello')"
   ]
  },
  {
   "cell_type": "code",
   "execution_count": 23,
   "metadata": {},
   "outputs": [],
   "source": [
    "person = ['ramesh','suresh','rakesh','rahul','piush','kartik','ganesh','krishna','subham','rohan']\n",
    "dish=['malai kofta','lolipop','noodles','rice','batata baji']\n",
    "lolipop = ['veg','gravy','chicken','dry','korien']"
   ]
  },
  {
   "cell_type": "code",
   "execution_count": 21,
   "metadata": {},
   "outputs": [
    {
     "name": "stdout",
     "output_type": "stream",
     "text": [
      "person ramesh tooked :\n",
      "malai kofta\n",
      "lolipop\n",
      "noodles\n",
      "rice\n",
      "batata baji\n",
      "\n",
      "person suresh tooked :\n",
      "malai kofta\n",
      "lolipop\n",
      "noodles\n",
      "rice\n",
      "batata baji\n",
      "\n",
      "person rakesh tooked :\n",
      "malai kofta\n",
      "lolipop\n",
      "noodles\n",
      "rice\n",
      "batata baji\n",
      "\n",
      "person rahul tooked :\n",
      "malai kofta\n",
      "lolipop\n",
      "noodles\n",
      "rice\n",
      "batata baji\n",
      "\n",
      "person piush tooked :\n",
      "malai kofta\n",
      "lolipop\n",
      "noodles\n",
      "rice\n",
      "batata baji\n",
      "\n",
      "person kartik tooked :\n",
      "malai kofta\n",
      "lolipop\n",
      "noodles\n",
      "rice\n",
      "batata baji\n",
      "\n",
      "person ganesh tooked :\n",
      "malai kofta\n",
      "lolipop\n",
      "noodles\n",
      "rice\n",
      "batata baji\n",
      "\n",
      "person krishna tooked :\n",
      "malai kofta\n",
      "lolipop\n",
      "noodles\n",
      "rice\n",
      "batata baji\n",
      "\n",
      "person subham tooked :\n",
      "malai kofta\n",
      "lolipop\n",
      "noodles\n",
      "rice\n",
      "batata baji\n",
      "\n",
      "person rohan tooked :\n",
      "malai kofta\n",
      "lolipop\n",
      "noodles\n",
      "rice\n",
      "batata baji\n",
      "\n"
     ]
    }
   ],
   "source": [
    "for p in person:\n",
    "    print(f'person {p} tooked :')\n",
    "    for d in dish:\n",
    "        print(f'{d}')\n",
    "    print()"
   ]
  },
  {
   "cell_type": "code",
   "execution_count": 16,
   "metadata": {},
   "outputs": [
    {
     "name": "stdout",
     "output_type": "stream",
     "text": [
      "outer_loop=1     inner_loop=1\n",
      "\n",
      "outer_loop=1     inner_loop=2\n",
      "\n",
      "outer_loop=2     inner_loop=1\n",
      "\n",
      "outer_loop=2     inner_loop=2\n",
      "\n"
     ]
    }
   ],
   "source": [
    "count =0\n",
    "for outer_loop in range(1,3):            #1           2\n",
    "    for inner_loop in range(1,3):        #1,2,3,4,5   1,2,3,4,5\n",
    "        print(f'outer_loop={outer_loop}     inner_loop={inner_loop}\\n')\n",
    "\n"
   ]
  },
  {
   "cell_type": "code",
   "execution_count": 27,
   "metadata": {},
   "outputs": [
    {
     "name": "stdout",
     "output_type": "stream",
     "text": [
      "person ramesh tooked :\n",
      "malai kofta\n",
      "lolipop\n",
      "('veg', 'lolipop')\n",
      "('gravy', 'lolipop')\n",
      "('chicken', 'lolipop')\n",
      "('dry', 'lolipop')\n",
      "('korien', 'lolipop')\n",
      "noodles\n",
      "rice\n",
      "batata baji\n",
      "\n",
      "person suresh tooked :\n",
      "malai kofta\n",
      "lolipop\n",
      "('veg', 'lolipop')\n",
      "('gravy', 'lolipop')\n",
      "('chicken', 'lolipop')\n",
      "('dry', 'lolipop')\n",
      "('korien', 'lolipop')\n",
      "noodles\n",
      "rice\n",
      "batata baji\n",
      "\n",
      "person rakesh tooked :\n",
      "malai kofta\n",
      "lolipop\n",
      "('veg', 'lolipop')\n",
      "('gravy', 'lolipop')\n",
      "('chicken', 'lolipop')\n",
      "('dry', 'lolipop')\n",
      "('korien', 'lolipop')\n",
      "noodles\n",
      "rice\n",
      "batata baji\n",
      "\n",
      "person rahul tooked :\n",
      "malai kofta\n",
      "lolipop\n",
      "('veg', 'lolipop')\n",
      "('gravy', 'lolipop')\n",
      "('chicken', 'lolipop')\n",
      "('dry', 'lolipop')\n",
      "('korien', 'lolipop')\n",
      "noodles\n",
      "rice\n",
      "batata baji\n",
      "\n",
      "person piush tooked :\n",
      "malai kofta\n",
      "lolipop\n",
      "('veg', 'lolipop')\n",
      "('gravy', 'lolipop')\n",
      "('chicken', 'lolipop')\n",
      "('dry', 'lolipop')\n",
      "('korien', 'lolipop')\n",
      "noodles\n",
      "rice\n",
      "batata baji\n",
      "\n",
      "person kartik tooked :\n",
      "malai kofta\n",
      "lolipop\n",
      "('veg', 'lolipop')\n",
      "('gravy', 'lolipop')\n",
      "('chicken', 'lolipop')\n",
      "('dry', 'lolipop')\n",
      "('korien', 'lolipop')\n",
      "noodles\n",
      "rice\n",
      "batata baji\n",
      "\n",
      "person ganesh tooked :\n",
      "malai kofta\n",
      "lolipop\n",
      "('veg', 'lolipop')\n",
      "('gravy', 'lolipop')\n",
      "('chicken', 'lolipop')\n",
      "('dry', 'lolipop')\n",
      "('korien', 'lolipop')\n",
      "noodles\n",
      "rice\n",
      "batata baji\n",
      "\n",
      "person krishna tooked :\n",
      "malai kofta\n",
      "lolipop\n",
      "('veg', 'lolipop')\n",
      "('gravy', 'lolipop')\n",
      "('chicken', 'lolipop')\n",
      "('dry', 'lolipop')\n",
      "('korien', 'lolipop')\n",
      "noodles\n",
      "rice\n",
      "batata baji\n",
      "\n",
      "person subham tooked :\n",
      "malai kofta\n",
      "lolipop\n",
      "('veg', 'lolipop')\n",
      "('gravy', 'lolipop')\n",
      "('chicken', 'lolipop')\n",
      "('dry', 'lolipop')\n",
      "('korien', 'lolipop')\n",
      "noodles\n",
      "rice\n",
      "batata baji\n",
      "\n",
      "person rohan tooked :\n",
      "malai kofta\n",
      "lolipop\n",
      "('veg', 'lolipop')\n",
      "('gravy', 'lolipop')\n",
      "('chicken', 'lolipop')\n",
      "('dry', 'lolipop')\n",
      "('korien', 'lolipop')\n",
      "noodles\n",
      "rice\n",
      "batata baji\n",
      "\n"
     ]
    }
   ],
   "source": [
    "count = 0\n",
    "for p in person:\n",
    "    print(f'person {p} tooked :')\n",
    "    for d in dish:\n",
    "        print(f'{d}')\n",
    "        if d=='lolipop':\n",
    "            for l in lolipop:\n",
    "                print(f'{l,d}')\n",
    "    print()"
   ]
  },
  {
   "cell_type": "markdown",
   "metadata": {},
   "source": [
    "[(1,1) (1,2)\n",
    " (2,1)  (2,2)]"
   ]
  },
  {
   "cell_type": "code",
   "execution_count": 52,
   "metadata": {},
   "outputs": [
    {
     "name": "stdout",
     "output_type": "stream",
     "text": [
      "(1, 1)     (1, 2)     (1, 3)     \n",
      "(2, 1)     \n",
      "(3, 1)     (3, 2)     (3, 3)     \n"
     ]
    }
   ],
   "source": [
    "\n",
    "for row in range(1,4):\n",
    "    for col in range(1,4):\n",
    "        if row==col==2:\n",
    "            print(\"MID\", end=\"      \")\n",
    "        else:\n",
    "            print(f'{row, col}',end='     ')\n",
    "    print()\n"
   ]
  },
  {
   "cell_type": "code",
   "execution_count": 46,
   "metadata": {},
   "outputs": [],
   "source": [
    "suit = ('#','<>','@','&')\n",
    "rank = ('A','2','3','4','5','6','7','8','9','10','Jack','Queen','King')"
   ]
  },
  {
   "cell_type": "code",
   "execution_count": 54,
   "metadata": {},
   "outputs": [
    {
     "name": "stdout",
     "output_type": "stream",
     "text": [
      "#A  #2  #3  #4  #5  #6  #7  #8  #9  #10  #Jack  #Queen  #King  \n",
      "<>A  <>2  <>3  <>4  <>5  <>6  <>7  <>8  <>9  <>10  <>Jack  <>Queen  <>King  \n",
      "@A  @2  @3  @4  @5  @6  @7  @8  @9  @10  @Jack  @Queen  @King  \n",
      "&A  &2  &3  &4  &5  &6  &7  &8  &9  &10  &Jack  &Queen  &King  \n"
     ]
    }
   ],
   "source": [
    "for s in suit:\n",
    "    for r in rank:\n",
    "        print(f\"{s}{r}\" ,end='  ')\n",
    "    print()"
   ]
  },
  {
   "cell_type": "code",
   "execution_count": null,
   "metadata": {},
   "outputs": [],
   "source": [
    "st1002_name='rakesh'\n",
    "st1002_age=23\n",
    "st1002_salary=24433\n"
   ]
  },
  {
   "cell_type": "code",
   "execution_count": null,
   "metadata": {},
   "outputs": [],
   "source": [
    "d = {'st1002':{'name':'Ramesh','age':23,'salary':24433},\n",
    "     'st1003':{'name':'Ramesh','age':23,'salary':24433},\n",
    "     'st1004':{'name':'Ramesh','age':23,'salary':24433},\n",
    "     'st1005':{'name':'Ramesh','age':23,'salary':24433},\n",
    "     'st1006':{'name':'Ramesh','age':23,'salary':24433},\n",
    "     }"
   ]
  },
  {
   "cell_type": "markdown",
   "metadata": {},
   "source": [
    "<h2>Non Primitive Data Types</h2>\n",
    "Non-primitive Data Structures – These data structures store values, as well as a collection of values, in varying formats. The four built-in non-primitive data structures are lists, tuples, dictionaries, and sets."
   ]
  },
  {
   "cell_type": "code",
   "execution_count": 26,
   "metadata": {},
   "outputs": [
    {
     "data": {
      "text/plain": [
       "11"
      ]
     },
     "execution_count": 26,
     "metadata": {},
     "output_type": "execute_result"
    }
   ],
   "source": [
    "len(st)"
   ]
  },
  {
   "cell_type": "code",
   "execution_count": 34,
   "metadata": {},
   "outputs": [
    {
     "name": "stdout",
     "output_type": "stream",
     "text": [
      "H 0\n",
      "e 1\n",
      "l 2\n",
      "l 3\n",
      "o 4\n",
      "o4 l3 l2 e1 H0 "
     ]
    }
   ],
   "source": [
    "st = 'Hello'\n",
    "   #  01234        index\n",
    "   #  12345       len\n",
    "for i in range(0,5):\n",
    "    print(st[i],i)  # prints each character of the string\n",
    "\n",
    "for i in range(len(st)-1,-1,-1):     #  range(4,-1,-1)      o/p        4 3 2 1 0 \n",
    "    print(st[i],i,end=' ',sep='')"
   ]
  },
  {
   "cell_type": "markdown",
   "metadata": {},
   "source": [
    "<h2>Slice</h2>\n",
    "Slicing is the extraction of a part of a string, list, or tuple. It enables users to access the specific range of elements by mentioning their indices. Syntax: Object [start:stop:step] “Start” specifies the starting index of a slice. “Stop”"
   ]
  },
  {
   "cell_type": "code",
   "execution_count": 17,
   "metadata": {},
   "outputs": [],
   "source": [
    "s = 'Python is great' \n",
    "st='Hello'"
   ]
  },
  {
   "cell_type": "code",
   "execution_count": 16,
   "metadata": {},
   "outputs": [
    {
     "name": "stdout",
     "output_type": "stream",
     "text": [
      "Hello\n",
      "Python\n",
      "great\n",
      "taerg si nohtyP\n",
      "Hitesh\n"
     ]
    }
   ],
   "source": [
    "print(st[0:5])\n",
    "print(s[0:6])\n",
    "print(s[-5:])\n",
    "print(s[::-1])\n",
    "print('hsetiH'[::-1])"
   ]
  },
  {
   "cell_type": "code",
   "execution_count": 6,
   "metadata": {},
   "outputs": [
    {
     "data": {
      "text/plain": [
       "'Hello'"
      ]
     },
     "execution_count": 6,
     "metadata": {},
     "output_type": "execute_result"
    }
   ],
   "source": [
    "st[0]+ st[1]+ st[2]+ st[3]+ st[4]"
   ]
  },
  {
   "cell_type": "code",
   "execution_count": 38,
   "metadata": {},
   "outputs": [
    {
     "data": {
      "text/plain": [
       "True"
      ]
     },
     "execution_count": 38,
     "metadata": {},
     "output_type": "execute_result"
    }
   ],
   "source": [
    "s.casefold() == 'python is great'"
   ]
  },
  {
   "cell_type": "code",
   "execution_count": 59,
   "metadata": {},
   "outputs": [
    {
     "name": "stdout",
     "output_type": "stream",
     "text": [
      "-------Python is great--------\n"
     ]
    }
   ],
   "source": [
    "print(s.center(30,\"-\"))"
   ]
  },
  {
   "cell_type": "code",
   "execution_count": 54,
   "metadata": {},
   "outputs": [
    {
     "name": "stdout",
     "output_type": "stream",
     "text": [
      "OOOOOOObananaOOOOOOO\n"
     ]
    }
   ],
   "source": [
    "txt = \"banana\"\n",
    "x = txt.center(20, \"O\")\n",
    "print(x)\n"
   ]
  },
  {
   "cell_type": "code",
   "execution_count": 60,
   "metadata": {},
   "outputs": [
    {
     "data": {
      "text/plain": [
       "15"
      ]
     },
     "execution_count": 60,
     "metadata": {},
     "output_type": "execute_result"
    }
   ],
   "source": [
    "len(s)"
   ]
  },
  {
   "cell_type": "code",
   "execution_count": 72,
   "metadata": {},
   "outputs": [
    {
     "name": "stdout",
     "output_type": "stream",
     "text": [
      "Hello\n",
      "HELLO\n",
      "hello\n",
      "hello\n",
      "3\n",
      "True\n"
     ]
    }
   ],
   "source": [
    "print('hello'.capitalize())\n",
    "print('hello'.upper())\n",
    "print('hello'.lower())\n",
    "print('hElLo'.casefold())\n",
    "print('hello world'.count('l'))                                #\n",
    "print('hello'.endswith('o'))"
   ]
  },
  {
   "cell_type": "code",
   "execution_count": 143,
   "metadata": {},
   "outputs": [
    {
     "name": "stdout",
     "output_type": "stream",
     "text": [
      "hello                         world\n",
      "-1\n",
      "hello Python is great\n",
      "2\n",
      "1hello2hello3\n",
      "hello--------\n",
      "ell\n",
      "('h', 'e', 'llo')\n",
      "hello universe universe\n",
      "['he', '', 'o wor', 'd']\n"
     ]
    }
   ],
   "source": [
    "print('hello\\tworld'.expandtabs(30))\n",
    "print('hello'.find('w'))                                          #\n",
    "print('hello {}'.format(s))                                         #\n",
    "print('hello'.index('l'))                                          #\n",
    "print('hello'.join('123'))\n",
    "print('hello'.ljust(13,'-'))\n",
    "print('helloooooooooo'.lstrip('h').rstrip('o'))                    #\n",
    "print('hello'.rpartition('e'))\n",
    "print('hello world world'.replace('world','universe'))              #\n",
    "print('hello world'.split('l'))                                     #"
   ]
  },
  {
   "cell_type": "code",
   "execution_count": 133,
   "metadata": {},
   "outputs": [
    {
     "name": "stdout",
     "output_type": "stream",
     "text": [
      "he\n",
      "he\n"
     ]
    }
   ],
   "source": [
    "#without method chaining\n",
    "a='helloooooo'\n",
    "a=a.rstrip('o')\n",
    "a=a.rstrip('l')\n",
    "print(a)\n",
    "#with Method Chaining\n",
    "a='helloooooo'\n",
    "a=a.rstrip('o').rstrip('l')\n",
    "print(a)"
   ]
  },
  {
   "cell_type": "code",
   "execution_count": 150,
   "metadata": {},
   "outputs": [
    {
     "name": "stdout",
     "output_type": "stream",
     "text": [
      "[1, 2, 3, 4, 5, 6, 7, 8, 9]\n",
      "[3, 5, 1, 6, 2, 7, 4, 8, 9]\n",
      "None\n",
      "[1, 2, 3, 4, 5, 6, 7, 8, 9]\n"
     ]
    }
   ],
   "source": [
    "g = [3,5,1,6,2,7,4,8,9]\n",
    "print(sorted(g))                    #function\n",
    "print(g)\n",
    "print(g.sort())                     #method for list\n",
    "print(g)"
   ]
  },
  {
   "cell_type": "code",
   "execution_count": 163,
   "metadata": {},
   "outputs": [],
   "source": [
    "a=[1,2]\n",
    "b=a.copy()"
   ]
  },
  {
   "cell_type": "code",
   "execution_count": 164,
   "metadata": {},
   "outputs": [
    {
     "name": "stdout",
     "output_type": "stream",
     "text": [
      "[1, 2]\n",
      "[1, 2]\n"
     ]
    }
   ],
   "source": [
    "print(a)\n",
    "print(b)"
   ]
  },
  {
   "cell_type": "code",
   "execution_count": 165,
   "metadata": {},
   "outputs": [],
   "source": [
    "b.append(3)"
   ]
  },
  {
   "cell_type": "code",
   "execution_count": 166,
   "metadata": {},
   "outputs": [
    {
     "name": "stdout",
     "output_type": "stream",
     "text": [
      "[1, 2]\n",
      "[1, 2, 3]\n"
     ]
    }
   ],
   "source": [
    "print(a)\n",
    "print(b)\n"
   ]
  },
  {
   "cell_type": "code",
   "execution_count": 169,
   "metadata": {},
   "outputs": [
    {
     "data": {
      "text/plain": [
       "False"
      ]
     },
     "execution_count": 169,
     "metadata": {},
     "output_type": "execute_result"
    }
   ],
   "source": [
    "id(b) == id(a)"
   ]
  },
  {
   "cell_type": "code",
   "execution_count": 6,
   "metadata": {},
   "outputs": [
    {
     "name": "stdout",
     "output_type": "stream",
     "text": [
      "hellohello\n"
     ]
    }
   ],
   "source": [
    "print('hello'*2)"
   ]
  },
  {
   "cell_type": "code",
   "execution_count": null,
   "metadata": {},
   "outputs": [],
   "source": [
    "\"\"\" \n",
    "hi\n",
    "\n",
    "\"\"\""
   ]
  },
  {
   "cell_type": "markdown",
   "metadata": {},
   "source": [
    "<h2>list :</h2>\n",
    "1.sequence datatype    :-  indexing (slice) \n",
    "2.Mutable\n",
    "datatype :-  indexing (slice) ,insertion ,deletion ,update\n",
    "3.Multiple datatype        :- any value of different datatype can be stored \n",
    "4.itrable                  :- can iterate with loop\n",
    "5.unhashable               :- \n",
    "\n",
    "\n",
    "<h2>Tuple</h2>\n",
    "1.immutable\n",
    "2.same as List\n",
    "3.hashable\n"
   ]
  },
  {
   "cell_type": "markdown",
   "metadata": {},
   "source": [
    "<h3>List Methods</h3>\n",
    "1. append     insert element at the end\n",
    "2. pop        removes element from end if we don't provide index, otherwise removes element from specific index\n",
    "3. insert     insert a value to spefic index\n",
    "4. remove\n",
    "5. sort\n"
   ]
  },
  {
   "cell_type": "code",
   "execution_count": 55,
   "metadata": {},
   "outputs": [
    {
     "name": "stdout",
     "output_type": "stream",
     "text": [
      "[1, 2, 3, 'xyz']\n"
     ]
    },
    {
     "data": {
      "text/plain": [
       "[1, 2]"
      ]
     },
     "execution_count": 55,
     "metadata": {},
     "output_type": "execute_result"
    }
   ],
   "source": [
    "a=[1,2]\n",
    "b=a.copy()\n",
    "b.append(3)\n",
    "b.append('xyz')\n",
    "print(b)\n",
    "a"
   ]
  },
  {
   "cell_type": "code",
   "execution_count": 89,
   "metadata": {},
   "outputs": [
    {
     "name": "stdout",
     "output_type": "stream",
     "text": [
      "1\n",
      "[3, 2, 1]\n",
      "[1, 2, 3, 4, 5]\n",
      "[0, 1, 2, 3, 4, 5]\n",
      "[6, 7, 8]\n"
     ]
    },
    {
     "data": {
      "text/plain": [
       "[1, 11, 10, 9, [6, 7, 8], 5, 4, 3, 2, 1.5, 0.5, 0, -0.5, -1, -2]"
      ]
     },
     "execution_count": 89,
     "metadata": {},
     "output_type": "execute_result"
    }
   ],
   "source": [
    "f = [1,2,3]\n",
    "print(f[0])  # prints 1\n",
    "print(f[::-1])\n",
    "f.append(4)\n",
    "f.append(5)\n",
    "print(f)\n",
    "f.insert(0,0)\n",
    "print(f)\n",
    "f.insert(0,-2)\n",
    "f.insert(1,-1)\n",
    "f.insert(4,1.5)\n",
    "f.insert(3,0.5)\n",
    "f.insert(2,-0.5)\n",
    "\n",
    "# f.clear()\n",
    "# print(f)\n",
    "f.count(-0.5)\n",
    "f.append([6,7,8])\n",
    "print(f[11])\n",
    "f.extend((9,10,11))\n",
    "f.index(1.5)\n",
    "f.append(1)\n",
    "f\n",
    "f.remove(1)\n",
    "# print(list(reversed(f)))\n",
    "f.reverse()\n",
    "f"
   ]
  },
  {
   "cell_type": "code",
   "execution_count": 92,
   "metadata": {},
   "outputs": [],
   "source": [
    "s=[]\n",
    "for i in range(8):\n",
    "    s.append(int(input('Enter number')))\n"
   ]
  },
  {
   "cell_type": "code",
   "execution_count": 95,
   "metadata": {},
   "outputs": [
    {
     "data": {
      "text/plain": [
       "[0, 1, 2, 3, 7, 3, 4, 5, 7]"
      ]
     },
     "execution_count": 95,
     "metadata": {},
     "output_type": "execute_result"
    }
   ],
   "source": [
    "s.sort()\n",
    "s.insert(4,7)\n"
   ]
  },
  {
   "cell_type": "code",
   "execution_count": 111,
   "metadata": {},
   "outputs": [],
   "source": [
    "s=[0, 1, 2, 3, 7, 3, 4, 5, 7]\n"
   ]
  },
  {
   "cell_type": "code",
   "execution_count": 114,
   "metadata": {},
   "outputs": [],
   "source": [
    "for i in range(3):\n",
    "    s.pop()"
   ]
  },
  {
   "cell_type": "code",
   "execution_count": 115,
   "metadata": {},
   "outputs": [
    {
     "data": {
      "text/plain": [
       "[3, 7, 3]"
      ]
     },
     "execution_count": 115,
     "metadata": {},
     "output_type": "execute_result"
    }
   ],
   "source": [
    "s"
   ]
  },
  {
   "cell_type": "code",
   "execution_count": 24,
   "metadata": {},
   "outputs": [
    {
     "data": {
      "text/plain": [
       "-1680211210408051462"
      ]
     },
     "execution_count": 24,
     "metadata": {},
     "output_type": "execute_result"
    }
   ],
   "source": [
    "hash('asdvafvnvnefnvnenv435634756925659653489575095734895723049753049570937530895708975834750234750923eionvioorvierniovioenrioniovnfetiooenfeiovneiov')"
   ]
  },
  {
   "cell_type": "code",
   "execution_count": 25,
   "metadata": {},
   "outputs": [
    {
     "data": {
      "text/plain": [
       "19"
      ]
     },
     "execution_count": 25,
     "metadata": {},
     "output_type": "execute_result"
    }
   ],
   "source": [
    "len('1680211210408051462')"
   ]
  },
  {
   "cell_type": "code",
   "execution_count": 1,
   "metadata": {},
   "outputs": [
    {
     "data": {
      "text/plain": [
       "[1, 3, 'hello', [1, 2, [2, 4]], 4]"
      ]
     },
     "execution_count": 1,
     "metadata": {},
     "output_type": "execute_result"
    }
   ],
   "source": [
    "g=[1,2,'hello',[1,2,[2,4]]]\n",
    "g[1]=3\n",
    "g.append(4)\n",
    "g"
   ]
  },
  {
   "cell_type": "code",
   "execution_count": 19,
   "metadata": {},
   "outputs": [],
   "source": [
    "g.insert(1,'hello')"
   ]
  },
  {
   "cell_type": "code",
   "execution_count": 20,
   "metadata": {},
   "outputs": [
    {
     "data": {
      "text/plain": [
       "[1, 'hello', 'hello', [1, 2, [2, 4]], 4, 'hello world']"
      ]
     },
     "execution_count": 20,
     "metadata": {},
     "output_type": "execute_result"
    }
   ],
   "source": [
    "g"
   ]
  },
  {
   "cell_type": "code",
   "execution_count": 34,
   "metadata": {},
   "outputs": [],
   "source": [
    "m=[]\n",
    "for i in range(0,3):\n",
    "    m.append([])\n",
    "    for j in range(0,3):\n",
    "        m[i].append([])\n",
    "        for k in range(0,3):\n",
    "            m[i][j].append((i,j,k))"
   ]
  },
  {
   "cell_type": "code",
   "execution_count": 35,
   "metadata": {},
   "outputs": [],
   "source": [
    "m[0][0][0]='The'\n",
    "m[1][1][1]='Great'\n",
    "m[2][2][2]='Python'"
   ]
  },
  {
   "cell_type": "code",
   "execution_count": 36,
   "metadata": {},
   "outputs": [
    {
     "data": {
      "text/plain": [
       "[[['The', (0, 0, 1), (0, 0, 2)],\n",
       "  [(0, 1, 0), (0, 1, 1), (0, 1, 2)],\n",
       "  [(0, 2, 0), (0, 2, 1), (0, 2, 2)]],\n",
       " [[(1, 0, 0), (1, 0, 1), (1, 0, 2)],\n",
       "  [(1, 1, 0), 'Great', (1, 1, 2)],\n",
       "  [(1, 2, 0), (1, 2, 1), (1, 2, 2)]],\n",
       " [[(2, 0, 0), (2, 0, 1), (2, 0, 2)],\n",
       "  [(2, 1, 0), (2, 1, 1), (2, 1, 2)],\n",
       "  [(2, 2, 0), (2, 2, 1), 'Python']]]"
      ]
     },
     "execution_count": 36,
     "metadata": {},
     "output_type": "execute_result"
    }
   ],
   "source": [
    "m"
   ]
  },
  {
   "cell_type": "markdown",
   "metadata": {},
   "source": [
    "<pre>\n",
    "\n",
    "[[1, 1, 1], [1, 1, 2], [1, 1, 3],\n",
    "[1, 2, 1], [1, 2, 2], [1, 2, 3],\n",
    "[1, 3, 1], [1, 3, 2], [1, 3, 3], \n",
    "[2, 1, 1], [2, 1, 2], [2, 1, 3],\n",
    "[2, 2, 1], [2, 2, 2], [2, 2, 3], \n",
    "[2, 3, 1], [2, 3, 2], [2, 3, 3], \n",
    "[3, 1, 1], [3, 1, 2], [3, 1, 3], \n",
    "[3, 2, 1], [3, 2, 2], [3, 2, 3], \n",
    "[3, 3, 1], [3, 3, 2], [3, 3, 3]]\n",
    "\n",
    "[[1, 1, 1], [1, 1, 2], [1, 1, 3], \n",
    "[1, 2, 1], [1, 2, 2], [1, 2, 3], \n",
    "[1, 3, 1], [1, 3, 2], [1, 3, 3], \n",
    "[2, 1, 1], [2, 1, 2], [2, 1, 3], \n",
    "[2, 2, 1], ['mid'], [2, 2, 3], \n",
    "[2, 3, 1], [2, 3, 2], [2, 3, 3], \n",
    "[3, 1, 1], [3, 1, 2], [3, 1, 3], \n",
    "[3, 2, 1], [3, 2, 2], [3, 2, 3], \n",
    "[3, 3, 1], [3, 3, 2], [3, 3, 3]]\n",
    "\n",
    "\n",
    "\n",
    "[(1, 1, 1), (1, 1, 2), (1, 1, 3), \n",
    "(1, 2, 1), (1, 2, 2), (1, 2, 3), \n",
    "(1, 3, 1), (1, 3, 2), (1, 3, 3), \n",
    "(2, 1, 1), (2, 1, 2), (2, 1, 3), \n",
    "(2, 2, 1), (2, 2, 2), (2, 2, 3), \n",
    "(2, 3, 1), (2, 3, 2), (2, 3, 3), \n",
    "(3, 1, 1), (3, 1, 2), (3, 1, 3), \n",
    "(3, 2, 1), (3, 2, 2), (3, 2, 3), \n",
    "(3, 3, 1), (3, 3, 2), (3, 3, 3)]\n",
    "\n",
    "\n",
    "[[(1, 1), (1, 2), (1, 3), (2, 1), (2, 2), (2, 3), (3, 1), (3, 2), (3, 3)], \n",
    "[(1, 1), (1, 2), (1, 3), (2, 1), (2, 2), (2, 3), (3, 1), (3, 2), (3, 3)], \n",
    "[(1, 1), (1, 2), (1, 3), (2, 1), (2, 2), (2, 3), (3, 1), (3, 2), (3, 3)]]\n",
    "\n",
    "\n",
    "[[[1, 2, 3], [1, 2, 3], [1, 2, 3]],\n",
    " [[1, 2, 3], [1, 2, 3], [1, 2, 3]], \n",
    " [[1, 2, 3], [1, 2, 3], [1, 2, 3]]]\n",
    "\n",
    "\n",
    " [\n",
    "    [\n",
    "        [(1, 1, 1), (1, 1, 2), (1, 1, 3)],\n",
    "        [(1, 2, 1), (1, 2, 2), (1, 2, 3)],\n",
    "        [(1, 3, 1), (1, 3, 2), (1, 3, 3)]\n",
    "                                            ], \n",
    "\n",
    "    [\n",
    "        [(2, 1, 1), (2, 1, 2), (2, 1, 3)],\n",
    "        [(2, 2, 1), (2, 2, 2), (2, 2, 3)], \n",
    "        [(2, 3, 1), (2, 3, 2), (2, 3, 3)]\n",
    "                                            ], \n",
    "    \n",
    "    [\n",
    "        [(3, 1, 1), (3, 1, 2), (3, 1, 3)], \n",
    "        [(3, 2, 1), (3, 2, 2), (3, 2, 3)], \n",
    "        [(3, 3, 1), (3, 3, 2), (3, 3, 3)]\n",
    "                                            ]\n",
    "                                                    ]\n",
    "\n",
    "\n",
    "\n",
    "\n",
    "\n",
    "\n",
    "\n",
    " [\n",
    "    \n",
    "    [\n",
    "        [(0, 0, 0), (0, 0, 1), (0, 0, 2)], \n",
    "        [(0, 1, 0), (0, 1, 1), (0, 1, 2)], \n",
    "        [(0, 2, 0), (0, 2, 1), (0, 2, 2)]\n",
    "                                            ],                                          \n",
    "    \n",
    "    [\n",
    "        [(1, 0, 0), (1, 0, 1), (1, 0, 2)], \n",
    "        [(1, 1, 0), (1, 1, 1), (1, 1, 2)], \n",
    "        [(1, 2, 0), (1, 2, 1), (1, 2, 2)]\n",
    "                                            ], \n",
    "    \n",
    "    [\n",
    "        [(2, 0, 0), (2, 0, 1), (2, 0, 2)], \n",
    "        [(2, 1, 0), (2, 1, 1), (2, 1, 2)], \n",
    "        [(2, 2, 0), (2, 2, 1), (2, 2, 2)]\n",
    "                                            ]\n",
    "\n",
    "                                                ]\n",
    "                                                </pre>"
   ]
  },
  {
   "cell_type": "code",
   "execution_count": 29,
   "metadata": {},
   "outputs": [],
   "source": [
    "m[1][1][1]='Python'"
   ]
  },
  {
   "cell_type": "code",
   "execution_count": 77,
   "metadata": {},
   "outputs": [
    {
     "data": {
      "text/plain": [
       "[[['The', (0, 0, 1), (0, 0, 2)],\n",
       "  [(0, 1, 0), (0, 1, 1), (0, 1, 2)],\n",
       "  [(0, 2, 0), (0, 2, 1), (0, 2, 2)]],\n",
       " [[(1, 0, 0), (1, 0, 1), (1, 0, 2)],\n",
       "  [(1, 1, 0), 'Great', (1, 1, 2)],\n",
       "  [(1, 2, 0), (1, 2, 1), (1, 2, 2)]],\n",
       " [[(2, 0, 0), (2, 0, 1), (2, 0, 2)],\n",
       "  [(2, 1, 0), (2, 1, 1), (2, 1, 2)],\n",
       "  [(2, 2, 0), (2, 2, 1), 'Python']]]"
      ]
     },
     "execution_count": 77,
     "metadata": {},
     "output_type": "execute_result"
    }
   ],
   "source": [
    "m"
   ]
  },
  {
   "cell_type": "code",
   "execution_count": 3,
   "metadata": {},
   "outputs": [
    {
     "ename": "AttributeError",
     "evalue": "'tuple' object has no attribute 'clear'",
     "output_type": "error",
     "traceback": [
      "\u001b[1;31m---------------------------------------------------------------------------\u001b[0m",
      "\u001b[1;31mAttributeError\u001b[0m                            Traceback (most recent call last)",
      "Cell \u001b[1;32mIn[3], line 1\u001b[0m\n\u001b[1;32m----> 1\u001b[0m \u001b[43mm\u001b[49m\u001b[43m[\u001b[49m\u001b[38;5;241;43m13\u001b[39;49m\u001b[43m]\u001b[49m\u001b[38;5;241;43m.\u001b[39;49m\u001b[43mclear\u001b[49m()\n\u001b[0;32m      2\u001b[0m m[\u001b[38;5;241m13\u001b[39m]\u001b[38;5;241m.\u001b[39mappend(\u001b[38;5;124m\"\u001b[39m\u001b[38;5;124mmid\u001b[39m\u001b[38;5;124m\"\u001b[39m)\n",
      "\u001b[1;31mAttributeError\u001b[0m: 'tuple' object has no attribute 'clear'"
     ]
    }
   ],
   "source": [
    "m[13].clear()\n",
    "m[13].append(\"mid\")"
   ]
  },
  {
   "cell_type": "markdown",
   "metadata": {},
   "source": [
    "[[1, 1], [1, 2], [1, 3],\n",
    " [2, 1], [2, 2], [2, 3],\n",
    " [3, 1], [3, 2], [3, 3]]"
   ]
  },
  {
   "cell_type": "code",
   "execution_count": 13,
   "metadata": {},
   "outputs": [],
   "source": [
    "m[7].append(4)"
   ]
  },
  {
   "cell_type": "code",
   "execution_count": 14,
   "metadata": {},
   "outputs": [
    {
     "data": {
      "text/plain": [
       "[[1, 1], [1, 2], [1, 3], [2, 1], [2, 2], [2, 3], [3, 1], [3, 2, 4], [3, 3]]"
      ]
     },
     "execution_count": 14,
     "metadata": {},
     "output_type": "execute_result"
    }
   ],
   "source": [
    "m"
   ]
  },
  {
   "cell_type": "markdown",
   "metadata": {},
   "source": [
    "<h2>Tuple</h2>\n",
    "<p>A tuple is a collection of values that can be of any data type, including strings, integers\n",
    "and floats. Tuples are defined by enclosing the values in parentheses, separated by commas.</p>"
   ]
  },
  {
   "cell_type": "code",
   "execution_count": 54,
   "metadata": {},
   "outputs": [],
   "source": [
    "d = tuple()\n",
    "t=()\n",
    "e=(1.2,)"
   ]
  },
  {
   "cell_type": "code",
   "execution_count": 55,
   "metadata": {},
   "outputs": [
    {
     "data": {
      "text/plain": [
       "tuple"
      ]
     },
     "execution_count": 55,
     "metadata": {},
     "output_type": "execute_result"
    }
   ],
   "source": [
    "type(e)"
   ]
  },
  {
   "cell_type": "code",
   "execution_count": 57,
   "metadata": {},
   "outputs": [
    {
     "data": {
      "text/plain": [
       "0"
      ]
     },
     "execution_count": 57,
     "metadata": {},
     "output_type": "execute_result"
    }
   ],
   "source": [
    "e.index(1.2)"
   ]
  },
  {
   "cell_type": "code",
   "execution_count": 68,
   "metadata": {},
   "outputs": [],
   "source": [
    "r= ([1,2,3],[12])"
   ]
  },
  {
   "cell_type": "code",
   "execution_count": 69,
   "metadata": {},
   "outputs": [],
   "source": [
    "r[1].append('python')"
   ]
  },
  {
   "cell_type": "code",
   "execution_count": 73,
   "metadata": {},
   "outputs": [],
   "source": [
    "r[1].clear()"
   ]
  },
  {
   "cell_type": "code",
   "execution_count": 83,
   "metadata": {},
   "outputs": [],
   "source": [
    "r=(m,m)"
   ]
  },
  {
   "cell_type": "code",
   "execution_count": null,
   "metadata": {},
   "outputs": [],
   "source": [
    "\n"
   ]
  },
  {
   "cell_type": "code",
   "execution_count": 81,
   "metadata": {},
   "outputs": [
    {
     "data": {
      "text/plain": [
       "(0, 1, 2)"
      ]
     },
     "execution_count": 81,
     "metadata": {},
     "output_type": "execute_result"
    }
   ],
   "source": [
    "r[0][0][1][2]"
   ]
  },
  {
   "cell_type": "markdown",
   "metadata": {},
   "source": [
    "<h2>Set</h2>\n",
    "<p>Set is a collection of unique elements. It is an unordered collection of elements, which means that the order of the elements does not matter.\n",
    "set support only hashable data as a element.\n",
    "it create set with {}\n",
    "</p>"
   ]
  },
  {
   "cell_type": "code",
   "execution_count": 133,
   "metadata": {},
   "outputs": [],
   "source": [
    "d={6}\n",
    "d=set()"
   ]
  },
  {
   "cell_type": "code",
   "execution_count": 173,
   "metadata": {},
   "outputs": [],
   "source": [
    "q={'jan','feb','mar','apr','may','jun','jul','aug','sep','oct','nov','dec'}\n"
   ]
  },
  {
   "cell_type": "code",
   "execution_count": 121,
   "metadata": {},
   "outputs": [
    {
     "name": "stdout",
     "output_type": "stream",
     "text": [
      "0 mar\n",
      "1 jun\n",
      "2 dec\n",
      "3 jan\n",
      "4 aug\n",
      "5 nov\n",
      "6 jul\n",
      "7 may\n",
      "8 sep\n",
      "9 feb\n",
      "10 oct\n",
      "11 apr\n"
     ]
    }
   ],
   "source": [
    "for i,v in enumerate(q):\n",
    "    print(i,v)"
   ]
  },
  {
   "cell_type": "code",
   "execution_count": 106,
   "metadata": {},
   "outputs": [
    {
     "data": {
      "text/plain": [
       "True"
      ]
     },
     "execution_count": 106,
     "metadata": {},
     "output_type": "execute_result"
    }
   ],
   "source": [
    "'jan' in q"
   ]
  },
  {
   "cell_type": "code",
   "execution_count": 140,
   "metadata": {},
   "outputs": [],
   "source": [
    "s = {'dec','mar','may'}"
   ]
  },
  {
   "cell_type": "code",
   "execution_count": 125,
   "metadata": {},
   "outputs": [
    {
     "data": {
      "text/plain": [
       "False"
      ]
     },
     "execution_count": 125,
     "metadata": {},
     "output_type": "execute_result"
    }
   ],
   "source": [
    "s.issubset(q)"
   ]
  },
  {
   "cell_type": "code",
   "execution_count": 135,
   "metadata": {},
   "outputs": [],
   "source": [
    "s={}"
   ]
  },
  {
   "cell_type": "code",
   "execution_count": 136,
   "metadata": {},
   "outputs": [],
   "source": [
    "w='hello world'\n",
    "for i in w:\n",
    "    if i in s:\n",
    "        s[i]=s[i]+1\n",
    "    else:\n",
    "        s[i]=1"
   ]
  },
  {
   "cell_type": "code",
   "execution_count": 137,
   "metadata": {},
   "outputs": [
    {
     "data": {
      "text/plain": [
       "{'h': 1, 'e': 1, 'l': 3, 'o': 2, ' ': 1, 'w': 1, 'r': 1, 'd': 1}"
      ]
     },
     "execution_count": 137,
     "metadata": {},
     "output_type": "execute_result"
    }
   ],
   "source": [
    "s"
   ]
  },
  {
   "cell_type": "code",
   "execution_count": 131,
   "metadata": {},
   "outputs": [
    {
     "data": {
      "text/plain": [
       "{' ', 'd', 'e', 'h', 'l', 'o', 'r', 'w'}"
      ]
     },
     "execution_count": 131,
     "metadata": {},
     "output_type": "execute_result"
    }
   ],
   "source": []
  },
  {
   "cell_type": "code",
   "execution_count": 141,
   "metadata": {},
   "outputs": [
    {
     "data": {
      "text/plain": [
       "True"
      ]
     },
     "execution_count": 141,
     "metadata": {},
     "output_type": "execute_result"
    }
   ],
   "source": [
    "q.issuperset(s)"
   ]
  },
  {
   "cell_type": "code",
   "execution_count": 149,
   "metadata": {},
   "outputs": [
    {
     "ename": "NameError",
     "evalue": "name 's' is not defined",
     "output_type": "error",
     "traceback": [
      "\u001b[1;31m---------------------------------------------------------------------------\u001b[0m",
      "\u001b[1;31mNameError\u001b[0m                                 Traceback (most recent call last)",
      "Cell \u001b[1;32mIn[149], line 1\u001b[0m\n\u001b[1;32m----> 1\u001b[0m \u001b[43ms\u001b[49m\u001b[38;5;241m.\u001b[39madd(\u001b[38;5;124m'\u001b[39m\u001b[38;5;124mapr\u001b[39m\u001b[38;5;124m'\u001b[39m)\n",
      "\u001b[1;31mNameError\u001b[0m: name 's' is not defined"
     ]
    }
   ],
   "source": [
    "s.add('apr')"
   ]
  },
  {
   "cell_type": "code",
   "execution_count": 148,
   "metadata": {},
   "outputs": [],
   "source": []
  },
  {
   "cell_type": "code",
   "execution_count": 188,
   "metadata": {},
   "outputs": [],
   "source": [
    "o = {'jan','dec','apr','hello','hi'}"
   ]
  },
  {
   "cell_type": "code",
   "execution_count": 176,
   "metadata": {},
   "outputs": [
    {
     "data": {
      "text/plain": [
       "{'aug', 'feb', 'jul', 'jun', 'mar', 'may', 'nov', 'oct', 'sep'}"
      ]
     },
     "execution_count": 176,
     "metadata": {},
     "output_type": "execute_result"
    }
   ],
   "source": [
    "q.difference(o)"
   ]
  },
  {
   "cell_type": "code",
   "execution_count": 166,
   "metadata": {},
   "outputs": [
    {
     "data": {
      "text/plain": [
       "{'apr',\n",
       " 'aug',\n",
       " 'dec',\n",
       " 'feb',\n",
       " 'jan',\n",
       " 'jul',\n",
       " 'jun',\n",
       " 'mar',\n",
       " 'may',\n",
       " 'nov',\n",
       " 'oct',\n",
       " 'sep'}"
      ]
     },
     "execution_count": 166,
     "metadata": {},
     "output_type": "execute_result"
    }
   ],
   "source": [
    "q"
   ]
  },
  {
   "cell_type": "code",
   "execution_count": 167,
   "metadata": {},
   "outputs": [],
   "source": [
    "q.difference_update(o)"
   ]
  },
  {
   "cell_type": "code",
   "execution_count": 168,
   "metadata": {},
   "outputs": [
    {
     "data": {
      "text/plain": [
       "{'aug', 'feb', 'jul', 'jun', 'mar', 'may', 'nov', 'oct', 'sep'}"
      ]
     },
     "execution_count": 168,
     "metadata": {},
     "output_type": "execute_result"
    }
   ],
   "source": [
    "q"
   ]
  },
  {
   "cell_type": "code",
   "execution_count": 170,
   "metadata": {},
   "outputs": [],
   "source": [
    "q.discard('jun')"
   ]
  },
  {
   "cell_type": "code",
   "execution_count": 177,
   "metadata": {},
   "outputs": [
    {
     "data": {
      "text/plain": [
       "{'apr', 'dec', 'jan'}"
      ]
     },
     "execution_count": 177,
     "metadata": {},
     "output_type": "execute_result"
    }
   ],
   "source": [
    "q.intersection(o)"
   ]
  },
  {
   "cell_type": "code",
   "execution_count": 192,
   "metadata": {},
   "outputs": [],
   "source": [
    "o.add(3)"
   ]
  },
  {
   "cell_type": "code",
   "execution_count": 185,
   "metadata": {},
   "outputs": [],
   "source": [
    "q.remove('jan')"
   ]
  },
  {
   "cell_type": "code",
   "execution_count": 196,
   "metadata": {},
   "outputs": [
    {
     "data": {
      "text/plain": [
       "{1,\n",
       " 2,\n",
       " 3,\n",
       " 'aug',\n",
       " 'feb',\n",
       " 'hello',\n",
       " 'hi',\n",
       " 'jan',\n",
       " 'jul',\n",
       " 'jun',\n",
       " 'mar',\n",
       " 'may',\n",
       " 'nov',\n",
       " 'oct',\n",
       " 'sep'}"
      ]
     },
     "execution_count": 196,
     "metadata": {},
     "output_type": "execute_result"
    }
   ],
   "source": [
    "q.symmetric_difference(o)"
   ]
  },
  {
   "cell_type": "code",
   "execution_count": 197,
   "metadata": {},
   "outputs": [
    {
     "data": {
      "text/plain": [
       "{1,\n",
       " 2,\n",
       " 3,\n",
       " 'apr',\n",
       " 'aug',\n",
       " 'dec',\n",
       " 'feb',\n",
       " 'hello',\n",
       " 'hi',\n",
       " 'jan',\n",
       " 'jul',\n",
       " 'jun',\n",
       " 'mar',\n",
       " 'may',\n",
       " 'nov',\n",
       " 'oct',\n",
       " 'sep'}"
      ]
     },
     "execution_count": 197,
     "metadata": {},
     "output_type": "execute_result"
    }
   ],
   "source": [
    "q.union(o)"
   ]
  },
  {
   "cell_type": "code",
   "execution_count": 198,
   "metadata": {},
   "outputs": [
    {
     "data": {
      "text/plain": [
       "{'apr', 'dec'}"
      ]
     },
     "execution_count": 198,
     "metadata": {},
     "output_type": "execute_result"
    }
   ],
   "source": [
    "q.union(o).difference(q.symmetric_difference(o))"
   ]
  },
  {
   "cell_type": "code",
   "execution_count": 199,
   "metadata": {},
   "outputs": [
    {
     "data": {
      "text/plain": [
       "{'apr', 'aug', 'dec', 'feb', 'jul', 'jun', 'mar', 'may', 'nov', 'oct', 'sep'}"
      ]
     },
     "execution_count": 199,
     "metadata": {},
     "output_type": "execute_result"
    }
   ],
   "source": [
    "q"
   ]
  },
  {
   "cell_type": "code",
   "execution_count": 200,
   "metadata": {},
   "outputs": [
    {
     "data": {
      "text/plain": [
       "{1, 2, 3, 'apr', 'dec', 'hello', 'hi', 'jan'}"
      ]
     },
     "execution_count": 200,
     "metadata": {},
     "output_type": "execute_result"
    }
   ],
   "source": [
    "o"
   ]
  },
  {
   "cell_type": "code",
   "execution_count": 202,
   "metadata": {},
   "outputs": [
    {
     "data": {
      "text/plain": [
       "False"
      ]
     },
     "execution_count": 202,
     "metadata": {},
     "output_type": "execute_result"
    }
   ],
   "source": [
    "q.isdisjoint(o)"
   ]
  },
  {
   "cell_type": "code",
   "execution_count": 203,
   "metadata": {},
   "outputs": [
    {
     "data": {
      "text/plain": [
       "{'apr', 'dec'}"
      ]
     },
     "execution_count": 203,
     "metadata": {},
     "output_type": "execute_result"
    }
   ],
   "source": [
    "q.intersection(o)"
   ]
  },
  {
   "cell_type": "code",
   "execution_count": 204,
   "metadata": {},
   "outputs": [
    {
     "data": {
      "text/plain": [
       "{'aug', 'feb', 'jul', 'jun', 'mar', 'may', 'nov', 'oct', 'sep'}"
      ]
     },
     "execution_count": 204,
     "metadata": {},
     "output_type": "execute_result"
    }
   ],
   "source": [
    "q.difference(o)"
   ]
  },
  {
   "cell_type": "code",
   "execution_count": 1,
   "metadata": {},
   "outputs": [],
   "source": [
    "import random as r\n",
    "c=set()\n",
    "g=[]\n",
    "for i in range(10000000):\n",
    "    a=r.randint(1000,10000)\n",
    "    s='sfjkvnsfnvanvnsflnvlnvnfvnanv' + str(a) + 'bsvjknsdlvnavnnnvawenonwinasdklniavnsifnvini'\n",
    "    g.append(s)\n",
    "    c.add(s)\n"
   ]
  },
  {
   "cell_type": "code",
   "execution_count": 216,
   "metadata": {},
   "outputs": [
    {
     "data": {
      "text/plain": [
       "'sfjkvnsfnvanvnsflnvlnvnfvnanv2791bsvjknsdlvnavnnnvawenonwinasdklniavnsifnvini'"
      ]
     },
     "execution_count": 216,
     "metadata": {},
     "output_type": "execute_result"
    }
   ],
   "source": [
    "g[10000000-1]"
   ]
  },
  {
   "cell_type": "code",
   "execution_count": 230,
   "metadata": {},
   "outputs": [],
   "source": [
    "f='sfjkvnsfnvanvnsflnvlnvnfvnanvgsfuvo356561bsvjknsdlvnavnnnvawenonwinasdklniavnsifnvini'"
   ]
  },
  {
   "cell_type": "code",
   "execution_count": 231,
   "metadata": {},
   "outputs": [
    {
     "data": {
      "text/plain": [
       "False"
      ]
     },
     "execution_count": 231,
     "metadata": {},
     "output_type": "execute_result"
    }
   ],
   "source": [
    "f in g"
   ]
  },
  {
   "cell_type": "code",
   "execution_count": 232,
   "metadata": {},
   "outputs": [
    {
     "data": {
      "text/plain": [
       "False"
      ]
     },
     "execution_count": 232,
     "metadata": {},
     "output_type": "execute_result"
    }
   ],
   "source": [
    "f in c"
   ]
  },
  {
   "cell_type": "code",
   "execution_count": 220,
   "metadata": {},
   "outputs": [],
   "source": [
    "n=g.copy()"
   ]
  },
  {
   "cell_type": "code",
   "execution_count": 221,
   "metadata": {},
   "outputs": [],
   "source": [
    "m=c.copy()"
   ]
  },
  {
   "cell_type": "code",
   "execution_count": 222,
   "metadata": {},
   "outputs": [
    {
     "data": {
      "text/plain": [
       "True"
      ]
     },
     "execution_count": 222,
     "metadata": {},
     "output_type": "execute_result"
    }
   ],
   "source": [
    "f in m"
   ]
  },
  {
   "cell_type": "code",
   "execution_count": 223,
   "metadata": {},
   "outputs": [
    {
     "data": {
      "text/plain": [
       "True"
      ]
     },
     "execution_count": 223,
     "metadata": {},
     "output_type": "execute_result"
    }
   ],
   "source": [
    "f in n"
   ]
  },
  {
   "cell_type": "code",
   "execution_count": 10,
   "metadata": {},
   "outputs": [
    {
     "data": {
      "text/plain": [
       "True"
      ]
     },
     "execution_count": 10,
     "metadata": {},
     "output_type": "execute_result"
    }
   ],
   "source": [
    "['Hi universe'][0][0] in ['Hello world ','heello',][0]"
   ]
  },
  {
   "cell_type": "code",
   "execution_count": 16,
   "metadata": {},
   "outputs": [
    {
     "data": {
      "text/plain": [
       "True"
      ]
     },
     "execution_count": 16,
     "metadata": {},
     "output_type": "execute_result"
    }
   ],
   "source": [
    "['hello universe',['hi world',('IT',)],][1][1][0] in [[\"it vedant\",'Python'],('it is','IT\\'s')][1][1][0:3]"
   ]
  },
  {
   "cell_type": "code",
   "execution_count": 18,
   "metadata": {},
   "outputs": [
    {
     "data": {
      "text/plain": [
       "True"
      ]
     },
     "execution_count": 18,
     "metadata": {},
     "output_type": "execute_result"
    }
   ],
   "source": [
    "['hi',['hello','itvedant']][1][1] in [['this ','is itvedant']][0][1]"
   ]
  },
  {
   "cell_type": "markdown",
   "metadata": {},
   "source": [
    "<h1>Dictinary</h1>"
   ]
  },
  {
   "cell_type": "markdown",
   "metadata": {},
   "source": [
    "<pre>Python dictionary holds data in form of Key and Value pair\n",
    "where key is unique and the value can be repeated \n",
    "the data in dictionary is unorderd\n",
    "the key should be hashable\n",
    "to find or to insert data in dictionary there should key\n",
    "key and value are seperated by : (colon)\n",
    ".items() method is used for iterating over dictionary with for loop \n",
    "    which will returns list of (key,value) tuples \n",
    "</pre>\n",
    " "
   ]
  },
  {
   "cell_type": "code",
   "execution_count": 25,
   "metadata": {},
   "outputs": [],
   "source": [
    "e={'h':1}"
   ]
  },
  {
   "cell_type": "code",
   "execution_count": 28,
   "metadata": {},
   "outputs": [],
   "source": [
    "d= {e['h']:12}"
   ]
  },
  {
   "cell_type": "code",
   "execution_count": 30,
   "metadata": {},
   "outputs": [
    {
     "data": {
      "text/plain": [
       "12"
      ]
     },
     "execution_count": 30,
     "metadata": {},
     "output_type": "execute_result"
    }
   ],
   "source": [
    "d[e['h']]"
   ]
  },
  {
   "cell_type": "code",
   "execution_count": 56,
   "metadata": {},
   "outputs": [],
   "source": [
    "d ={\n",
    "    1:'one',\n",
    "    2:'two',\n",
    "    3:'three',\n",
    "    4:'four'\n",
    "    }"
   ]
  },
  {
   "cell_type": "code",
   "execution_count": 72,
   "metadata": {},
   "outputs": [],
   "source": [
    "d[7]='seven'\n",
    "d[7]='Seven'\n",
    "d['7']='Seven'"
   ]
  },
  {
   "cell_type": "code",
   "execution_count": 73,
   "metadata": {},
   "outputs": [
    {
     "data": {
      "text/plain": [
       "{1: 'one',\n",
       " 2: 'two',\n",
       " 3: 'three',\n",
       " 4: 'four',\n",
       " '5': 'Five',\n",
       " 5: 'Five',\n",
       " 6: 'Six',\n",
       " '6': 'six',\n",
       " '6 ': 'Six',\n",
       " 7: 'Seven',\n",
       " '7': 'Seven'}"
      ]
     },
     "execution_count": 73,
     "metadata": {},
     "output_type": "execute_result"
    }
   ],
   "source": [
    "d"
   ]
  },
  {
   "cell_type": "code",
   "execution_count": 71,
   "metadata": {},
   "outputs": [
    {
     "data": {
      "text/plain": [
       "' '"
      ]
     },
     "execution_count": 71,
     "metadata": {},
     "output_type": "execute_result"
    }
   ],
   "source": [
    "ord(' ')\n",
    "chr(32)"
   ]
  },
  {
   "cell_type": "code",
   "execution_count": 55,
   "metadata": {},
   "outputs": [
    {
     "data": {
      "text/plain": [
       "'no match'"
      ]
     },
     "execution_count": 55,
     "metadata": {},
     "output_type": "execute_result"
    }
   ],
   "source": [
    "d.get(4,'no match')"
   ]
  },
  {
   "cell_type": "code",
   "execution_count": 53,
   "metadata": {},
   "outputs": [
    {
     "name": "stdout",
     "output_type": "stream",
     "text": [
      "no match\n"
     ]
    }
   ],
   "source": [
    "if a :\n",
    "    print(a)\n",
    "else:\n",
    "    print(\"No match\")"
   ]
  },
  {
   "cell_type": "code",
   "execution_count": 84,
   "metadata": {},
   "outputs": [],
   "source": [
    "w=d.fromkeys({'b',1,2,3,4,5,6,7,'a'})"
   ]
  },
  {
   "cell_type": "code",
   "execution_count": 83,
   "metadata": {},
   "outputs": [
    {
     "data": {
      "text/plain": [
       "{1: 'one',\n",
       " 2: 'two',\n",
       " 3: 'three',\n",
       " 4: 'four',\n",
       " '5': 'Five',\n",
       " 5: 'Five',\n",
       " 6: 'Six',\n",
       " '6': 'six',\n",
       " '6 ': 'Six',\n",
       " 7: 'Seven',\n",
       " '7': 'Seven'}"
      ]
     },
     "execution_count": 83,
     "metadata": {},
     "output_type": "execute_result"
    }
   ],
   "source": [
    "d"
   ]
  },
  {
   "cell_type": "code",
   "execution_count": 77,
   "metadata": {},
   "outputs": [
    {
     "name": "stdout",
     "output_type": "stream",
     "text": [
      "1\n",
      "2\n",
      "3\n",
      "4\n",
      "b\n",
      "a\n"
     ]
    }
   ],
   "source": [
    "for i in {'b',1,2,3,4,'a'}:\n",
    "    print(i)"
   ]
  },
  {
   "cell_type": "code",
   "execution_count": 88,
   "metadata": {},
   "outputs": [
    {
     "data": {
      "text/plain": [
       "'no match'"
      ]
     },
     "execution_count": 88,
     "metadata": {},
     "output_type": "execute_result"
    }
   ],
   "source": [
    "d.get('1','no match')"
   ]
  },
  {
   "cell_type": "code",
   "execution_count": 85,
   "metadata": {},
   "outputs": [
    {
     "data": {
      "text/plain": [
       "{1: None,\n",
       " 2: None,\n",
       " 3: None,\n",
       " 4: None,\n",
       " 5: None,\n",
       " 6: None,\n",
       " 7: None,\n",
       " 'b': None,\n",
       " 'a': None}"
      ]
     },
     "execution_count": 85,
     "metadata": {},
     "output_type": "execute_result"
    }
   ],
   "source": [
    "w"
   ]
  },
  {
   "cell_type": "code",
   "execution_count": 89,
   "metadata": {},
   "outputs": [
    {
     "data": {
      "text/plain": [
       "dict_items([(1, 'one'), (2, 'two'), (3, 'three'), (4, 'four'), ('5', 'Five'), (5, 'Five'), (6, 'Six'), ('6', 'six'), ('6 ', 'Six'), (7, 'Seven'), ('7', 'Seven')])"
      ]
     },
     "execution_count": 89,
     "metadata": {},
     "output_type": "execute_result"
    }
   ],
   "source": [
    "d.items()"
   ]
  },
  {
   "cell_type": "code",
   "execution_count": 105,
   "metadata": {},
   "outputs": [
    {
     "name": "stdout",
     "output_type": "stream",
     "text": [
      "(1, 'one')\n",
      "(2, 'two')\n",
      "(3, 'three')\n",
      "(4, 'four')\n",
      "('5', 'Five')\n",
      "(5, 'Five')\n",
      "(6, 'Six')\n",
      "('6', 'six')\n",
      "('6 ', 'Six')\n",
      "(7, 'Seven')\n",
      "('7', 'Seven')\n"
     ]
    }
   ],
   "source": [
    "for i in d.items():\n",
    "    print(i)"
   ]
  },
  {
   "cell_type": "code",
   "execution_count": 94,
   "metadata": {},
   "outputs": [],
   "source": [
    "u=list(d)"
   ]
  },
  {
   "cell_type": "code",
   "execution_count": 95,
   "metadata": {},
   "outputs": [
    {
     "data": {
      "text/plain": [
       "[1, 2, 3, 4, '5', 5, 6, '6', '6 ', 7, '7']"
      ]
     },
     "execution_count": 95,
     "metadata": {},
     "output_type": "execute_result"
    }
   ],
   "source": [
    "u"
   ]
  },
  {
   "cell_type": "code",
   "execution_count": 106,
   "metadata": {},
   "outputs": [
    {
     "data": {
      "text/plain": [
       "dict_keys([1, 2, 3, 4, '5', 5, 6, '6', '6 ', 7, '7'])"
      ]
     },
     "execution_count": 106,
     "metadata": {},
     "output_type": "execute_result"
    }
   ],
   "source": [
    "d.keys()"
   ]
  },
  {
   "cell_type": "code",
   "execution_count": 111,
   "metadata": {},
   "outputs": [
    {
     "data": {
      "text/plain": [
       "'Seven'"
      ]
     },
     "execution_count": 111,
     "metadata": {},
     "output_type": "execute_result"
    }
   ],
   "source": [
    "d.pop('7')"
   ]
  },
  {
   "cell_type": "code",
   "execution_count": 113,
   "metadata": {},
   "outputs": [
    {
     "data": {
      "text/plain": [
       "('6', 'six')"
      ]
     },
     "execution_count": 113,
     "metadata": {},
     "output_type": "execute_result"
    }
   ],
   "source": [
    "d.popitem()"
   ]
  },
  {
   "cell_type": "code",
   "execution_count": 114,
   "metadata": {},
   "outputs": [
    {
     "data": {
      "text/plain": [
       "{1: 'one', 2: 'two', 3: 'three', 4: 'four', '5': 'Five', 5: 'Five', 6: 'Six'}"
      ]
     },
     "execution_count": 114,
     "metadata": {},
     "output_type": "execute_result"
    }
   ],
   "source": [
    "d"
   ]
  },
  {
   "cell_type": "code",
   "execution_count": 124,
   "metadata": {},
   "outputs": [],
   "source": [
    "d.update({'six':66})"
   ]
  },
  {
   "cell_type": "code",
   "execution_count": 126,
   "metadata": {},
   "outputs": [],
   "source": [
    "d['6']='six t'"
   ]
  },
  {
   "cell_type": "code",
   "execution_count": 127,
   "metadata": {},
   "outputs": [
    {
     "data": {
      "text/plain": [
       "{1: 'one',\n",
       " 2: 'two',\n",
       " 3: 'three',\n",
       " 4: 'four',\n",
       " '5': 'Five',\n",
       " 5: 'Five',\n",
       " 6: 'Six',\n",
       " 'six': 66,\n",
       " '6': 'six t'}"
      ]
     },
     "execution_count": 127,
     "metadata": {},
     "output_type": "execute_result"
    }
   ],
   "source": [
    "d"
   ]
  },
  {
   "cell_type": "code",
   "execution_count": 128,
   "metadata": {},
   "outputs": [
    {
     "data": {
      "text/plain": [
       "dict_values(['one', 'two', 'three', 'four', 'Five', 'Five', 'Six', 66, 'six t'])"
      ]
     },
     "execution_count": 128,
     "metadata": {},
     "output_type": "execute_result"
    }
   ],
   "source": [
    "d.values()"
   ]
  },
  {
   "cell_type": "code",
   "execution_count": 143,
   "metadata": {},
   "outputs": [
    {
     "data": {
      "text/plain": [
       "'g'"
      ]
     },
     "execution_count": 143,
     "metadata": {},
     "output_type": "execute_result"
    }
   ],
   "source": [
    "d.setdefault(8,'giga')"
   ]
  },
  {
   "cell_type": "code",
   "execution_count": 131,
   "metadata": {},
   "outputs": [
    {
     "data": {
      "text/plain": [
       "'Six'"
      ]
     },
     "execution_count": 131,
     "metadata": {},
     "output_type": "execute_result"
    }
   ],
   "source": [
    "d.pop(6)"
   ]
  },
  {
   "cell_type": "code",
   "execution_count": 132,
   "metadata": {},
   "outputs": [],
   "source": [
    "d[6]=None"
   ]
  },
  {
   "cell_type": "code",
   "execution_count": 144,
   "metadata": {},
   "outputs": [
    {
     "data": {
      "text/plain": [
       "{1: 'one',\n",
       " 2: 'two',\n",
       " 3: 'three',\n",
       " 4: 'four',\n",
       " '5': 'Five',\n",
       " 5: 'Five',\n",
       " 'six': 66,\n",
       " '6': 'six t',\n",
       " 6: None,\n",
       " 7: 'g',\n",
       " 8: 'g'}"
      ]
     },
     "execution_count": 144,
     "metadata": {},
     "output_type": "execute_result"
    }
   ],
   "source": [
    "d"
   ]
  },
  {
   "cell_type": "code",
   "execution_count": 145,
   "metadata": {},
   "outputs": [],
   "source": [
    "q={\n",
    "    'name':'Harsh',\n",
    "    'age': 25,\n",
    "    'city':'Bangalore',\n",
    "    'country':'India',\n",
    "    'subjects':{\n",
    "        'maths':{\n",
    "            'internal':20,\n",
    "            'external':30\n",
    "        },\n",
    "        'science':{\n",
    "            'internal':40,\n",
    "            'external':50\n",
    "        },\n",
    "        'english':{\n",
    "            'internal':60,\n",
    "            'external':70\n",
    "        }\n",
    "    }\n",
    "}"
   ]
  },
  {
   "cell_type": "code",
   "execution_count": 146,
   "metadata": {},
   "outputs": [
    {
     "data": {
      "text/plain": [
       "{'name': 'Harsh',\n",
       " 'age': 25,\n",
       " 'city': 'Bangalore',\n",
       " 'country': 'India',\n",
       " 'subjects': {'maths': {'internal': 20, 'external': 30},\n",
       "  'science': {'internal': 40, 'external': 50},\n",
       "  'english': {'internal': 60, 'external': 70}}}"
      ]
     },
     "execution_count": 146,
     "metadata": {},
     "output_type": "execute_result"
    }
   ],
   "source": [
    "q"
   ]
  },
  {
   "cell_type": "code",
   "execution_count": 167,
   "metadata": {},
   "outputs": [
    {
     "data": {
      "text/plain": [
       "{'maths': {'internal': 20, 'external': 30},\n",
       " 'science': {'internal': 25, 'external': 50},\n",
       " 'english': {'internal': 25, 'external': 70}}"
      ]
     },
     "execution_count": 167,
     "metadata": {},
     "output_type": "execute_result"
    }
   ],
   "source": [
    "q['subjects']"
   ]
  },
  {
   "cell_type": "markdown",
   "metadata": {},
   "source": [
    "{\n",
    "    'maths': \n",
    "                {'internal': 20, 'external': 30},\n",
    " 'science': \n",
    "                {'internal': 25, 'external': 50},\n",
    " 'english':\n",
    "                {'internal': 25, 'external': 70}\n",
    " }"
   ]
  },
  {
   "cell_type": "code",
   "execution_count": 164,
   "metadata": {},
   "outputs": [
    {
     "data": {
      "text/plain": [
       "{'internal': 25, 'external': 30}"
      ]
     },
     "execution_count": 164,
     "metadata": {},
     "output_type": "execute_result"
    }
   ],
   "source": [
    "q['subjects']['maths']"
   ]
  },
  {
   "cell_type": "code",
   "execution_count": 166,
   "metadata": {},
   "outputs": [],
   "source": [
    "q['subjects']['maths']['internal']=20\n"
   ]
  },
  {
   "cell_type": "code",
   "execution_count": 160,
   "metadata": {},
   "outputs": [],
   "source": [
    "for i in q['subjects']:\n",
    "    q['subjects'][i]['internal']=25\n"
   ]
  },
  {
   "cell_type": "code",
   "execution_count": 162,
   "metadata": {},
   "outputs": [
    {
     "data": {
      "text/plain": [
       "{'name': 'Harsh',\n",
       " 'age': 25,\n",
       " 'city': 'Bangalore',\n",
       " 'country': 'India',\n",
       " 'subjects': {'maths': {'internal': 25, 'external': 30},\n",
       "  'science': {'internal': 25, 'external': 50},\n",
       "  'english': {'internal': 25, 'external': 70}}}"
      ]
     },
     "execution_count": 162,
     "metadata": {},
     "output_type": "execute_result"
    }
   ],
   "source": [
    "q"
   ]
  },
  {
   "cell_type": "code",
   "execution_count": null,
   "metadata": {},
   "outputs": [],
   "source": []
  },
  {
   "cell_type": "code",
   "execution_count": 149,
   "metadata": {},
   "outputs": [],
   "source": [
    "f=[x for x in range(11)]"
   ]
  },
  {
   "cell_type": "code",
   "execution_count": 150,
   "metadata": {},
   "outputs": [
    {
     "data": {
      "text/plain": [
       "[0, 1, 2, 3, 4, 5, 6, 7, 8, 9, 10]"
      ]
     },
     "execution_count": 150,
     "metadata": {},
     "output_type": "execute_result"
    }
   ],
   "source": [
    "f"
   ]
  },
  {
   "cell_type": "code",
   "execution_count": 168,
   "metadata": {},
   "outputs": [],
   "source": [
    "k=[]\n",
    "for i in range(11):\n",
    "    k.append(i)"
   ]
  },
  {
   "cell_type": "code",
   "execution_count": 182,
   "metadata": {},
   "outputs": [],
   "source": [
    "k\n",
    "j={x:x+1 for x in range(11)}"
   ]
  },
  {
   "cell_type": "code",
   "execution_count": 183,
   "metadata": {},
   "outputs": [
    {
     "data": {
      "text/plain": [
       "{0: 1, 1: 2, 2: 3, 3: 4, 4: 5, 5: 6, 6: 7, 7: 8, 8: 9, 9: 10, 10: 11}"
      ]
     },
     "execution_count": 183,
     "metadata": {},
     "output_type": "execute_result"
    }
   ],
   "source": [
    "j"
   ]
  },
  {
   "cell_type": "markdown",
   "metadata": {},
   "source": [
    "*****\n",
    "****\n",
    "***\n",
    "**\n",
    "*\n",
    "\n",
    "\n",
    "*\n",
    "**\n",
    "***\n",
    "****\n",
    "*****"
   ]
  },
  {
   "cell_type": "markdown",
   "metadata": {},
   "source": [
    "<h1>\n",
    "Functions\n",
    "</h1>"
   ]
  },
  {
   "cell_type": "markdown",
   "metadata": {},
   "source": [
    "<h2>\n",
    "Function is callable code block which needs to define first to call it later with help of \"\"def\"\" keyword<br>\n",
    "It impoves code reusablity and redablity\n",
    "</h2>"
   ]
  },
  {
   "cell_type": "code",
   "execution_count": 7,
   "metadata": {},
   "outputs": [],
   "source": [
    "def foo():\n",
    "    print('hello world')"
   ]
  },
  {
   "cell_type": "code",
   "execution_count": 8,
   "metadata": {},
   "outputs": [
    {
     "name": "stdout",
     "output_type": "stream",
     "text": [
      "hello world\n"
     ]
    }
   ],
   "source": [
    "foo()"
   ]
  },
  {
   "cell_type": "code",
   "execution_count": 16,
   "metadata": {},
   "outputs": [],
   "source": [
    "def greet(name):         #here name is parameter\n",
    "    print(f'hello {name}')"
   ]
  },
  {
   "cell_type": "code",
   "execution_count": 17,
   "metadata": {},
   "outputs": [
    {
     "name": "stdout",
     "output_type": "stream",
     "text": [
      "hello False\n"
     ]
    }
   ],
   "source": [
    "greet(False)"
   ]
  },
  {
   "cell_type": "code",
   "execution_count": 22,
   "metadata": {},
   "outputs": [],
   "source": [
    "def sum(a,b):\n",
    "    print(a+b)"
   ]
  },
  {
   "cell_type": "code",
   "execution_count": 26,
   "metadata": {},
   "outputs": [
    {
     "name": "stdout",
     "output_type": "stream",
     "text": [
      "11\n"
     ]
    }
   ],
   "source": [
    "c=int(input('enter value for c'))\n",
    "d=int(input('enter value for d'))\n",
    "sum(c,d)"
   ]
  },
  {
   "cell_type": "code",
   "execution_count": 36,
   "metadata": {},
   "outputs": [
    {
     "name": "stdout",
     "output_type": "stream",
     "text": [
      "Loop 0:\n",
      "Loop 1:\n",
      "Loop 2:\n"
     ]
    }
   ],
   "source": [
    "for i in range(3):\n",
    "    print(f\"Loop {i}:\")"
   ]
  },
  {
   "cell_type": "code",
   "execution_count": 37,
   "metadata": {},
   "outputs": [],
   "source": [
    "def print_num():\n",
    "    max = int(input('enter num'))\n",
    "    for i in range(1,max+1):\n",
    "        print(i)\n",
    "\n",
    "def print_num(max):\n",
    "    for i in range(1,max+1):\n",
    "        print(i)\n",
    "        "
   ]
  },
  {
   "cell_type": "code",
   "execution_count": 38,
   "metadata": {},
   "outputs": [
    {
     "name": "stdout",
     "output_type": "stream",
     "text": [
      "1\n",
      "2\n",
      "3\n"
     ]
    }
   ],
   "source": [
    "print_num(3)"
   ]
  },
  {
   "cell_type": "markdown",
   "metadata": {},
   "source": [
    "<h2>Perameter</h2>\n",
    "<h3>\n",
    "the perameter are written at function defination and its block scope variable <br>\n",
    "inside perenthesis<br>\n",
    "the block scope variable is variable like other but you can't access it out of the function block<br>\n",
    "</h3>\n",
    "\n",
    "<h2>Arrgument</h2>\n",
    "<h3>\n",
    "the arrgument are written at function call and it can be a variable <br>\n",
    "inside perenthesis<br>\n",
    "</h3>\n"
   ]
  },
  {
   "cell_type": "code",
   "execution_count": 46,
   "metadata": {},
   "outputs": [],
   "source": [
    "def table(num):        # we defining perameter   num is one of the perameter\n",
    "    for i in range(1,11):\n",
    "        print(f\"{num}    X   {i}  =  {i*num}\")"
   ]
  },
  {
   "cell_type": "code",
   "execution_count": 48,
   "metadata": {},
   "outputs": [
    {
     "name": "stdout",
     "output_type": "stream",
     "text": [
      "3    X   1  =  3\n",
      "3    X   2  =  6\n",
      "3    X   3  =  9\n",
      "3    X   4  =  12\n",
      "3    X   5  =  15\n",
      "3    X   6  =  18\n",
      "3    X   7  =  21\n",
      "3    X   8  =  24\n",
      "3    X   9  =  27\n",
      "3    X   10  =  30\n"
     ]
    }
   ],
   "source": [
    "table(3)"
   ]
  },
  {
   "cell_type": "code",
   "execution_count": 49,
   "metadata": {},
   "outputs": [],
   "source": [
    "def check(a,b):\n",
    "    if a>b:\n",
    "        return f'{a} is greater'\n",
    "    else:\n",
    "        return f'{b} is greater'"
   ]
  },
  {
   "cell_type": "code",
   "execution_count": 51,
   "metadata": {},
   "outputs": [
    {
     "data": {
      "text/plain": [
       "'22 is greater'"
      ]
     },
     "execution_count": 51,
     "metadata": {},
     "output_type": "execute_result"
    }
   ],
   "source": [
    "check(22,4)"
   ]
  },
  {
   "cell_type": "markdown",
   "metadata": {},
   "source": [
    "<h2>\n",
    "return \n",
    "</h2>"
   ]
  },
  {
   "cell_type": "markdown",
   "metadata": {},
   "source": [
    "<h3>\n",
    "The return statement is used to return a value <br>\n",
    "when a function complete its process it returns a value at end <br>\n",
    "if we don't write a return statement it will return None at end<br>\n",
    "the return statement is the last statement of the function or we can say it close the function execution\n",
    "</h3>"
   ]
  },
  {
   "cell_type": "code",
   "execution_count": null,
   "metadata": {},
   "outputs": [],
   "source": [
    "if year%400==0 or (year%4==0 and year%100!=0):\n",
    "    return True\n",
    "else:\n",
    "    return False"
   ]
  },
  {
   "cell_type": "code",
   "execution_count": 67,
   "metadata": {},
   "outputs": [],
   "source": [
    "def check_prime(num):\n",
    "    if num<2:\n",
    "        return True\n",
    "    else:\n",
    "        count=2\n",
    "        while(count<num):\n",
    "            if num%count==0:\n",
    "                return False\n",
    "            count+=1\n",
    "        return True\n",
    "def prime(num):\n",
    "    count= 0\n",
    "    d=1\n",
    "    while(d<num+1):\n",
    "        if num%d==0:\n",
    "            count+=1\n",
    "        d+=1\n",
    "    if count>2:\n",
    "        return('not a prime')\n",
    "    else:\n",
    "        return('prime')"
   ]
  },
  {
   "cell_type": "code",
   "execution_count": 68,
   "metadata": {},
   "outputs": [
    {
     "data": {
      "text/plain": [
       "'not a prime'"
      ]
     },
     "execution_count": 68,
     "metadata": {},
     "output_type": "execute_result"
    }
   ],
   "source": [
    "prime(9)"
   ]
  },
  {
   "cell_type": "code",
   "execution_count": 55,
   "metadata": {},
   "outputs": [
    {
     "name": "stdout",
     "output_type": "stream",
     "text": [
      "10    X   1  =  10\n",
      "10    X   2  =  20\n",
      "10    X   3  =  30\n",
      "10    X   4  =  40\n",
      "10    X   5  =  50\n",
      "10    X   6  =  60\n",
      "10    X   7  =  70\n",
      "10    X   8  =  80\n",
      "10    X   9  =  90\n",
      "10    X   10  =  100\n"
     ]
    }
   ],
   "source": [
    "r=table(10)\n",
    "r"
   ]
  },
  {
   "cell_type": "code",
   "execution_count": 57,
   "metadata": {},
   "outputs": [
    {
     "name": "stdout",
     "output_type": "stream",
     "text": [
      "None\n"
     ]
    }
   ],
   "source": [
    "print(r)"
   ]
  },
  {
   "cell_type": "code",
   "execution_count": 69,
   "metadata": {},
   "outputs": [],
   "source": [
    "def large_and_small(a,b,c):\n",
    "    if a > b and a > c:\n",
    "        if b<c:\n",
    "            return f'{a} is largest and {b} is smallest'\n",
    "        else:\n",
    "            return f'{a} is largest and {c} is smallest'\n",
    "    elif b > a and b > c:\n",
    "        if a<c:\n",
    "            return f'{b} is largest and {a} is smallest'\n",
    "        else:\n",
    "            return f'{b} is largest and {c} is smallest'\n",
    "    else:\n",
    "        if a<b:\n",
    "            return f'{c} is largest and {a} is smallest'\n",
    "        else:\n",
    "            return f'{c} is largest and {b} is smallest'"
   ]
  },
  {
   "cell_type": "code",
   "execution_count": 72,
   "metadata": {},
   "outputs": [
    {
     "data": {
      "text/plain": [
       "'31 is largest and 1 is smallest'"
      ]
     },
     "execution_count": 72,
     "metadata": {},
     "output_type": "execute_result"
    }
   ],
   "source": [
    "large_and_small(31,1,4)"
   ]
  },
  {
   "cell_type": "code",
   "execution_count": 74,
   "metadata": {},
   "outputs": [
    {
     "data": {
      "text/plain": [
       "(43, -1)"
      ]
     },
     "execution_count": 74,
     "metadata": {},
     "output_type": "execute_result"
    }
   ],
   "source": []
  },
  {
   "cell_type": "code",
   "execution_count": 78,
   "metadata": {},
   "outputs": [],
   "source": [
    "def large_and_small(*num):\n",
    "    print(type(num))\n",
    "    large = max(num)\n",
    "    small = min(num)\n",
    "    return large, small"
   ]
  },
  {
   "cell_type": "code",
   "execution_count": 79,
   "metadata": {},
   "outputs": [
    {
     "name": "stdout",
     "output_type": "stream",
     "text": [
      "<class 'tuple'>\n"
     ]
    },
    {
     "data": {
      "text/plain": [
       "(43, -1)"
      ]
     },
     "execution_count": 79,
     "metadata": {},
     "output_type": "execute_result"
    }
   ],
   "source": [
    "large_and_small(-1,2,4,3,21,1,4,4,2,2,43)"
   ]
  },
  {
   "cell_type": "code",
   "execution_count": 1,
   "metadata": {},
   "outputs": [],
   "source": [
    "def fibonacci_series():\n",
    "    a, b = 0, 1\n",
    "    while True:\n",
    "        yield a\n",
    "        a, b = b, a + b\n",
    "        if a>1000:\n",
    "            break\n",
    "\n",
    "        "
   ]
  },
  {
   "cell_type": "code",
   "execution_count": 7,
   "metadata": {},
   "outputs": [
    {
     "data": {
      "text/plain": [
       "[0, 1, 1, 2, 3, 5, 8, 13, 21, 34, 55, 89, 144, 233, 377, 610, 987]"
      ]
     },
     "execution_count": 7,
     "metadata": {},
     "output_type": "execute_result"
    }
   ],
   "source": [
    "(list(fibonacci_series()))"
   ]
  },
  {
   "cell_type": "code",
   "execution_count": 13,
   "metadata": {},
   "outputs": [
    {
     "name": "stdout",
     "output_type": "stream",
     "text": [
      "0\n",
      "1\n",
      "1\n",
      "2\n",
      "3\n",
      "5\n",
      "8\n",
      "13\n",
      "21\n",
      "34\n",
      "55\n",
      "89\n",
      "144\n",
      "233\n",
      "377\n",
      "610\n",
      "987\n",
      "1597\n"
     ]
    }
   ],
   "source": [
    "a=0\n",
    "b=1\n",
    "\n",
    "for i  in range(18):\n",
    "    print(a)\n",
    "    sum  = a+b\n",
    "    a=b\n",
    "    b=sum"
   ]
  },
  {
   "cell_type": "code",
   "execution_count": 16,
   "metadata": {},
   "outputs": [
    {
     "name": "stdout",
     "output_type": "stream",
     "text": [
      "*\n",
      "**\n",
      "***\n",
      "****\n",
      "*****\n"
     ]
    }
   ],
   "source": [
    "for i in range(1,6):\n",
    "    print(i*'*')"
   ]
  },
  {
   "cell_type": "code",
   "execution_count": 19,
   "metadata": {},
   "outputs": [
    {
     "name": "stdout",
     "output_type": "stream",
     "text": [
      "*****\n",
      "****\n",
      "***\n",
      "**\n",
      "*\n"
     ]
    }
   ],
   "source": [
    "for i in range(5,0,-1):\n",
    "    print(i*'*')"
   ]
  },
  {
   "cell_type": "code",
   "execution_count": 24,
   "metadata": {},
   "outputs": [
    {
     "name": "stdout",
     "output_type": "stream",
     "text": [
      "\n",
      "*\n",
      "**\n",
      "***\n",
      "****\n",
      "*****\n",
      "****\n",
      "***\n",
      "**\n",
      "*\n"
     ]
    }
   ],
   "source": [
    "for i in range(10):\n",
    "    if i<5:    \n",
    "        print(i*'*')\n",
    "    else:\n",
    "        print((10-i)*'*')"
   ]
  },
  {
   "cell_type": "code",
   "execution_count": 86,
   "metadata": {},
   "outputs": [
    {
     "name": "stdout",
     "output_type": "stream",
     "text": [
      "*****\n",
      "****\n",
      "***\n",
      "**\n",
      "*\n",
      "*\n",
      "**\n",
      "***\n",
      "****\n",
      "*****\n"
     ]
    }
   ],
   "source": [
    "for i in range(10):\n",
    "    if i<5:\n",
    "        print((5-i)*'*')  #0 1 2 3 4            5-0=5      5-1=4\n",
    "    else:\n",
    "        print((i-4)*'*')"
   ]
  },
  {
   "cell_type": "code",
   "execution_count": 104,
   "metadata": {},
   "outputs": [
    {
     "name": "stdout",
     "output_type": "stream",
     "text": [
      "     *\n",
      "    ***\n",
      "   *****\n",
      "  *******\n",
      "    ***\n",
      "    ***\n",
      "    ***\n",
      "    ***\n"
     ]
    }
   ],
   "source": [
    "for i in range(8):\n",
    "    if i<4:\n",
    "        print((5-i)*' '+(i+1)*'*'+(i)*'*')\n",
    "    else:\n",
    "        print('    '+'***')\n"
   ]
  },
  {
   "cell_type": "code",
   "execution_count": 156,
   "metadata": {},
   "outputs": [],
   "source": [
    "def box(num):\n",
    "    for i in range(num):\n",
    "        if i==0 or i==num-1:\n",
    "            print(num*'* ')\n",
    "        else:\n",
    "            print('*'+\" \"*int(num+num*0.7)+'*')"
   ]
  },
  {
   "cell_type": "code",
   "execution_count": 84,
   "metadata": {},
   "outputs": [
    {
     "name": "stdout",
     "output_type": "stream",
     "text": [
      "* * * * * * * * * * \n",
      "*                 *\n",
      "*                 *\n",
      "*                 *\n",
      "*                 *\n",
      "*                 *\n",
      "*                 *\n",
      "*                 *\n",
      "*                 *\n",
      "* * * * * * * * * * \n"
     ]
    }
   ],
   "source": [
    "box(10)"
   ]
  },
  {
   "cell_type": "code",
   "execution_count": 102,
   "metadata": {},
   "outputs": [
    {
     "name": "stdout",
     "output_type": "stream",
     "text": [
      "*\n",
      "**\n",
      "***\n",
      "****\n",
      "*****\n"
     ]
    }
   ],
   "source": [
    "for i in range(1,6):        # 1     2    3      4       5\n",
    "    for j in range(0,i):    #(0,1)(0,2)(0,3)(0,4)(0,5)  \n",
    "        print('*',end='')\n",
    "    print()"
   ]
  },
  {
   "cell_type": "code",
   "execution_count": 103,
   "metadata": {},
   "outputs": [
    {
     "name": "stdout",
     "output_type": "stream",
     "text": [
      "*****\n",
      "****\n",
      "***\n",
      "**\n",
      "*\n"
     ]
    }
   ],
   "source": [
    "for i in range(5,0,-1):        # 1     2    3      4       5\n",
    "    for j in range(0,i):    #(0,1)(0,2)(0,3)(0,4)(0,5)  \n",
    "        print('*',end='')\n",
    "    print()"
   ]
  },
  {
   "cell_type": "code",
   "execution_count": 121,
   "metadata": {},
   "outputs": [
    {
     "name": "stdout",
     "output_type": "stream",
     "text": [
      "           * \n",
      "          * * \n",
      "         * * * \n",
      "        * * * * \n",
      "       * * * * * \n",
      "      * * * * * * \n",
      "     * * * * * * * \n",
      "    * * * * * * * * \n",
      "   * * * * * * * * * \n",
      "  * * * * * * * * * * \n",
      " * * * * * * * * * * * \n"
     ]
    }
   ],
   "source": [
    "for i in range(1,12):\n",
    "    print(' '*(12-i)+'* '*i)"
   ]
  },
  {
   "cell_type": "code",
   "execution_count": 128,
   "metadata": {},
   "outputs": [],
   "source": [
    "def pyramid(num):\n",
    "    for i in range(1,num):\n",
    "        for j in range(num-i):\n",
    "            print(' ',end='')\n",
    "        for k in range(0,i):\n",
    "            print('* ',end='')\n",
    "        print()\n"
   ]
  },
  {
   "cell_type": "code",
   "execution_count": 155,
   "metadata": {},
   "outputs": [
    {
     "name": "stdout",
     "output_type": "stream",
     "text": [
      "        * \n",
      "       * * \n",
      "      * * * \n",
      "     * * * * \n",
      "    * * * * * \n",
      "   * * * * * * \n",
      "  * * * * * * * \n",
      " * * * * * * * * \n",
      "        * \n",
      "       * * \n",
      "      * * * \n",
      "     * * * * \n",
      "    * * * * * \n",
      "   * * * * * * \n",
      "  * * * * * * * \n",
      " * * * * * * * * \n",
      "        * \n",
      "       * * \n",
      "      * * * \n",
      "     * * * * \n",
      "    * * * * * \n",
      "   * * * * * * \n",
      "  * * * * * * * \n",
      " * * * * * * * * \n",
      "      *****\n",
      "      *****\n",
      "      *****\n",
      "      *****\n",
      "      *****\n"
     ]
    }
   ],
   "source": [
    "pyramid(9)\n",
    "pyramid(9)\n",
    "pyramid(9)\n",
    "for i in range(5):\n",
    "    print(\"      *****\")"
   ]
  },
  {
   "cell_type": "code",
   "execution_count": 186,
   "metadata": {},
   "outputs": [],
   "source": [
    "old = [[x for x in range(y,y+3) ] for y in range(1,10,3)]"
   ]
  },
  {
   "cell_type": "code",
   "execution_count": 195,
   "metadata": {},
   "outputs": [
    {
     "name": "stdout",
     "output_type": "stream",
     "text": [
      "[[1, 2, 3], [4, 5, 6], [7, 8, 9]]\n"
     ]
    }
   ],
   "source": [
    "print(old)"
   ]
  },
  {
   "cell_type": "code",
   "execution_count": 201,
   "metadata": {},
   "outputs": [],
   "source": [
    "def transpose(old):\n",
    "    new=[] \n",
    "    # if len(old)==len(old[0]):\n",
    "    for i in range(len(old[0])):\n",
    "        new.append([])\n",
    "        for j in range(len(old)):\n",
    "            new[i].append(old[j][i])\n",
    "    # else:\n",
    "        # return 'not square matrix' \n",
    "    return new"
   ]
  },
  {
   "cell_type": "code",
   "execution_count": 202,
   "metadata": {},
   "outputs": [
    {
     "data": {
      "text/plain": [
       "[[1, 3, 5], [2, 4, 6]]"
      ]
     },
     "execution_count": 202,
     "metadata": {},
     "output_type": "execute_result"
    }
   ],
   "source": [
    "transpose([[1,2],[3,4],[5,6]])"
   ]
  },
  {
   "cell_type": "code",
   "execution_count": null,
   "metadata": {},
   "outputs": [],
   "source": [
    "[1,2,3,4,11,14,15,21,30]\n",
    "#         |                       |  print(\"Original list: \", original_list)\n",
    "#4"
   ]
  },
  {
   "cell_type": "markdown",
   "metadata": {},
   "source": [
    "<h2>\n",
    "Default Perameter \n",
    "</h2>"
   ]
  },
  {
   "cell_type": "markdown",
   "metadata": {},
   "source": [
    "<h3>\n",
    "We can assign value to perameter as a default which will taken by function when there is no value passed by user as positional arrguments\n",
    "</h3>"
   ]
  },
  {
   "cell_type": "code",
   "execution_count": 3,
   "metadata": {},
   "outputs": [],
   "source": [
    "def greet(id,name='thor'):\n",
    "    return ( 'hello ' + name + id)\n"
   ]
  },
  {
   "cell_type": "markdown",
   "metadata": {},
   "source": [
    "<h3>\n",
    "Method chaining\n",
    "</h3>"
   ]
  },
  {
   "cell_type": "code",
   "execution_count": 18,
   "metadata": {},
   "outputs": [
    {
     "data": {
      "text/plain": [
       "['HELLO', 'THORWOLF']"
      ]
     },
     "execution_count": 18,
     "metadata": {},
     "output_type": "execute_result"
    }
   ],
   "source": [
    "greet('wolf').upper().split()"
   ]
  },
  {
   "cell_type": "markdown",
   "metadata": {},
   "source": [
    "<h3>\n",
    "Docstring and return type\n",
    "<h3>"
   ]
  },
  {
   "cell_type": "code",
   "execution_count": 25,
   "metadata": {},
   "outputs": [],
   "source": [
    "def foo()->str:\n",
    "    \"\"\"\n",
    "    This function returns the hello world\n",
    "    'hello world'\n",
    "    \"\"\"\n",
    "    return \"Hello, World!\""
   ]
  },
  {
   "cell_type": "code",
   "execution_count": 22,
   "metadata": {},
   "outputs": [
    {
     "data": {
      "text/plain": [
       "'Hello, World!'"
      ]
     },
     "execution_count": 22,
     "metadata": {},
     "output_type": "execute_result"
    }
   ],
   "source": [
    "foo()"
   ]
  },
  {
   "cell_type": "code",
   "execution_count": 35,
   "metadata": {},
   "outputs": [],
   "source": [
    "def greet(name:str='thor')->str:\n",
    "    return 'hello ' + name"
   ]
  },
  {
   "cell_type": "code",
   "execution_count": 33,
   "metadata": {},
   "outputs": [
    {
     "data": {
      "text/plain": [
       "'hello thor'"
      ]
     },
     "execution_count": 33,
     "metadata": {},
     "output_type": "execute_result"
    }
   ],
   "source": [
    "greet()"
   ]
  },
  {
   "cell_type": "markdown",
   "metadata": {},
   "source": [
    "<h3>Arbitrary Arrguments</h3>\n",
    "<p>Arbitrary arguments are used to pass a variable number of arguments to a function. They are represented by the asterisk (*) symbol in the function definition.</p>"
   ]
  },
  {
   "cell_type": "code",
   "execution_count": 38,
   "metadata": {},
   "outputs": [],
   "source": [
    "def fun(*a):\n",
    "    return a"
   ]
  },
  {
   "cell_type": "code",
   "execution_count": 50,
   "metadata": {},
   "outputs": [
    {
     "data": {
      "text/plain": [
       "()"
      ]
     },
     "execution_count": 50,
     "metadata": {},
     "output_type": "execute_result"
    }
   ],
   "source": [
    "fun()"
   ]
  },
  {
   "cell_type": "code",
   "execution_count": 1,
   "metadata": {},
   "outputs": [],
   "source": [
    "def total(*num):\n",
    "    total = 0\n",
    "    for i in num:\n",
    "        total = total + i\n",
    "    return total"
   ]
  },
  {
   "cell_type": "code",
   "execution_count": 2,
   "metadata": {},
   "outputs": [
    {
     "data": {
      "text/plain": [
       "0"
      ]
     },
     "execution_count": 2,
     "metadata": {},
     "output_type": "execute_result"
    }
   ],
   "source": [
    "total()"
   ]
  },
  {
   "cell_type": "code",
   "execution_count": 80,
   "metadata": {},
   "outputs": [],
   "source": [
    "def sam(*a):\n",
    "    return len(a)"
   ]
  },
  {
   "cell_type": "code",
   "execution_count": 59,
   "metadata": {},
   "outputs": [],
   "source": [
    "j=(1,2,3,4)\n",
    "total=0\n",
    "for i in j:\n",
    "    total = total+i\n",
    "        "
   ]
  },
  {
   "cell_type": "markdown",
   "metadata": {},
   "source": [
    "<h3>\n",
    "key-word arrguments\n",
    "</h3>"
   ]
  },
  {
   "cell_type": "code",
   "execution_count": 93,
   "metadata": {},
   "outputs": [],
   "source": [
    "def intro(id, name, age, salary, location):\n",
    "    print(f\"\"\"Hello, my name is {name} and \n",
    "          I am {age} years old\n",
    "          I am from {location} and \n",
    "          my salary is {salary} per month\n",
    "          My ID is {id}\"\"\")"
   ]
  },
  {
   "cell_type": "code",
   "execution_count": 94,
   "metadata": {},
   "outputs": [
    {
     "name": "stdout",
     "output_type": "stream",
     "text": [
      "Hello, my name is john and \n",
      "          I am 21 years old\n",
      "          I am from mahim and \n",
      "          my salary is 100001 per month\n",
      "          My ID is 1\n"
     ]
    }
   ],
   "source": [
    "\n",
    "intro(1,'john',salary=100001,age=21,location='mahim')"
   ]
  },
  {
   "cell_type": "code",
   "execution_count": 106,
   "metadata": {},
   "outputs": [],
   "source": [
    "def introduction(**info):\n",
    "    print(f\"\"\"Hello, my name is {info['name']} and \n",
    "          I am {info.get('age','not mentioned')} years old\n",
    "          I am from {info.get('location','')} and \n",
    "          my salary is {info['salary']} per month\n",
    "          My ID is {info['id']}\"\"\")"
   ]
  },
  {
   "cell_type": "code",
   "execution_count": 107,
   "metadata": {},
   "outputs": [
    {
     "name": "stdout",
     "output_type": "stream",
     "text": [
      "Hello, my name is hero and \n",
      "          I am not mentioned years old\n",
      "          I am from  and \n",
      "          my salary is 1000001 per month\n",
      "          My ID is 1\n"
     ]
    }
   ],
   "source": [
    "introduction(id=1,name='hero',salary='1000001')"
   ]
  },
  {
   "cell_type": "code",
   "execution_count": 17,
   "metadata": {},
   "outputs": [],
   "source": [
    "a,b={1:'a',2:2}"
   ]
  },
  {
   "cell_type": "code",
   "execution_count": 38,
   "metadata": {},
   "outputs": [
    {
     "data": {
      "text/plain": [
       "1"
      ]
     },
     "execution_count": 38,
     "metadata": {},
     "output_type": "execute_result"
    }
   ],
   "source": [
    "a"
   ]
  },
  {
   "cell_type": "code",
   "execution_count": 20,
   "metadata": {},
   "outputs": [
    {
     "name": "stdout",
     "output_type": "stream",
     "text": [
      "1\n",
      "2\n",
      "3\n",
      "4\n",
      "5\n"
     ]
    }
   ],
   "source": [
    "for i in {1,2,3,4,5}:\n",
    "    print(i)"
   ]
  },
  {
   "cell_type": "markdown",
   "metadata": {},
   "source": [
    "<h2>\n",
    "Variable Scope\n",
    "</h2>"
   ]
  },
  {
   "cell_type": "markdown",
   "metadata": {},
   "source": [
    "<p>\n",
    "variale scope are\n",
    "local : variable defined inside block like class function method or loop are local variables <br>\n",
    "global : variable defined outside block are global variables<br>\n",
    "no-local : variable defined inside block like function who get accesed by inner function are non local <br>\n",
    "</p>\n"
   ]
  },
  {
   "cell_type": "code",
   "execution_count": 36,
   "metadata": {},
   "outputs": [],
   "source": [
    "x='Ramesh'"
   ]
  },
  {
   "cell_type": "code",
   "execution_count": 37,
   "metadata": {},
   "outputs": [
    {
     "name": "stdout",
     "output_type": "stream",
     "text": [
      "hello suresh\n",
      "1 Ramesh\n"
     ]
    }
   ],
   "source": [
    "def foo():\n",
    "    # global x\n",
    "    a='hello'\n",
    "    x='suresh'\n",
    "    print(a,x)\n",
    "foo()\n",
    "print(a,x)       "
   ]
  },
  {
   "cell_type": "markdown",
   "metadata": {},
   "source": [
    "<h2>\n",
    "Recursive Function\n",
    "</h2>\n",
    "<p>\n",
    "Recursive functions are a type of function that calls itself during its execution. This can be useful for tasks that require repeated execution of a function, such as traversing a tree or list data structure.\n",
    "</p>"
   ]
  },
  {
   "cell_type": "code",
   "execution_count": 48,
   "metadata": {},
   "outputs": [],
   "source": [
    "a=0\n",
    "def hello():\n",
    "    global a\n",
    "    a += 1\n",
    "    print(\"Hello, World!\",a)\n",
    "    if a==3:\n",
    "        print(\"Goodbye, World!\")\n",
    "        return 0\n",
    "    hello()"
   ]
  },
  {
   "cell_type": "code",
   "execution_count": 49,
   "metadata": {},
   "outputs": [
    {
     "name": "stdout",
     "output_type": "stream",
     "text": [
      "Hello, World! 1\n",
      "Hello, World! 2\n",
      "Hello, World! 3\n",
      "Goodbye, World!\n"
     ]
    }
   ],
   "source": [
    "hello()\n"
   ]
  },
  {
   "cell_type": "code",
   "execution_count": 58,
   "metadata": {},
   "outputs": [],
   "source": [
    "def factorial(n):\n",
    "    if n == 1:\n",
    "        return 1\n",
    "    else:\n",
    "        return n * factorial(n-1)"
   ]
  },
  {
   "cell_type": "code",
   "execution_count": 59,
   "metadata": {},
   "outputs": [
    {
     "data": {
      "text/plain": [
       "6"
      ]
     },
     "execution_count": 59,
     "metadata": {},
     "output_type": "execute_result"
    }
   ],
   "source": [
    "factorial(3)"
   ]
  },
  {
   "cell_type": "code",
   "execution_count": 10,
   "metadata": {},
   "outputs": [],
   "source": [
    "global_var = \"global variable\"\n",
    "def outer():\n",
    "    non_local_var = \"nonlocal variable\"\n",
    "    def inner():\n",
    "        local_var = \"local variable\"\n",
    "        def most_inner():\n",
    "            global global_var\n",
    "            nonlocal non_local_var\n",
    "            nonlocal local_var\n",
    "            most_in= 'Most inner var'\n",
    "            print(\"Global variable:\", global_var)\n",
    "            print(\"Nonlocal variable:\", non_local_var)\n",
    "            print(\"Local variable:\", local_var)\n",
    "            print(\"Most inner var:\", most_in)\n",
    "        most_inner()\n",
    "    inner()"
   ]
  },
  {
   "cell_type": "code",
   "execution_count": 12,
   "metadata": {},
   "outputs": [
    {
     "name": "stdout",
     "output_type": "stream",
     "text": [
      "Global variable: global variable\n",
      "Nonlocal variable: nonlocal variable\n",
      "Local variable: local variable\n",
      "Most inner var: Most inner var\n",
      "None\n"
     ]
    }
   ],
   "source": [
    "print(outer())"
   ]
  },
  {
   "cell_type": "code",
   "execution_count": 35,
   "metadata": {},
   "outputs": [],
   "source": [
    "def times(num):\n",
    "    def inner(value):\n",
    "        return value * num\n",
    "    return inner"
   ]
  },
  {
   "cell_type": "code",
   "execution_count": 50,
   "metadata": {},
   "outputs": [],
   "source": [
    "def times(num):\n",
    "    return lambda value : value*num"
   ]
  },
  {
   "cell_type": "code",
   "execution_count": 47,
   "metadata": {},
   "outputs": [],
   "source": [
    "double = times(2)"
   ]
  },
  {
   "cell_type": "code",
   "execution_count": 49,
   "metadata": {},
   "outputs": [
    {
     "data": {
      "text/plain": [
       "4"
      ]
     },
     "execution_count": 49,
     "metadata": {},
     "output_type": "execute_result"
    }
   ],
   "source": [
    "double(2)"
   ]
  },
  {
   "cell_type": "code",
   "execution_count": 67,
   "metadata": {},
   "outputs": [],
   "source": [
    "u=[9,8,7,6,5,4]"
   ]
  },
  {
   "cell_type": "code",
   "execution_count": 65,
   "metadata": {},
   "outputs": [],
   "source": [
    "for i in range(6):\n",
    "    u[i]= double(u[i])"
   ]
  },
  {
   "cell_type": "code",
   "execution_count": 66,
   "metadata": {},
   "outputs": [
    {
     "data": {
      "text/plain": [
       "[18, 16, 14, 12, 10, 8]"
      ]
     },
     "execution_count": 66,
     "metadata": {},
     "output_type": "execute_result"
    }
   ],
   "source": [
    "u"
   ]
  },
  {
   "cell_type": "code",
   "execution_count": 76,
   "metadata": {},
   "outputs": [
    {
     "name": "stdout",
     "output_type": "stream",
     "text": [
      "None\n",
      "None\n",
      "None\n",
      "None\n",
      "None\n",
      "None\n"
     ]
    }
   ],
   "source": [
    "u=list(map(print,u))"
   ]
  },
  {
   "cell_type": "code",
   "execution_count": 77,
   "metadata": {},
   "outputs": [
    {
     "data": {
      "text/plain": [
       "[None, None, None, None, None, None]"
      ]
     },
     "execution_count": 77,
     "metadata": {},
     "output_type": "execute_result"
    }
   ],
   "source": [
    "u"
   ]
  },
  {
   "cell_type": "code",
   "execution_count": null,
   "metadata": {},
   "outputs": [],
   "source": []
  }
 ],
 "metadata": {
  "kernelspec": {
   "display_name": "Python 3",
   "language": "python",
   "name": "python3"
  },
  "language_info": {
   "codemirror_mode": {
    "name": "ipython",
    "version": 3
   },
   "file_extension": ".py",
   "mimetype": "text/x-python",
   "name": "python",
   "nbconvert_exporter": "python",
   "pygments_lexer": "ipython3",
   "version": "3.12.6"
  }
 },
 "nbformat": 4,
 "nbformat_minor": 2
}
