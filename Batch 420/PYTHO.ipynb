{
 "cells": [
  {
   "cell_type": "markdown",
   "metadata": {},
   "source": [
    "<h1>\n",
    "Python\n",
    "</h1>\n",
    "<h3>Variables</h3>"
   ]
  },
  {
   "cell_type": "code",
   "execution_count": 3,
   "metadata": {},
   "outputs": [],
   "source": [
    "a=10"
   ]
  },
  {
   "cell_type": "markdown",
   "metadata": {},
   "source": [
    "<h3>Operator</h3>\n",
    "\n",
    "Math Operator\n",
    "<pre>\n",
    "+\n",
    "-\n",
    "/\n",
    "//\n",
    "*\n",
    "**\n",
    "%\n",
    "\n",
    "</pre>"
   ]
  },
  {
   "cell_type": "code",
   "execution_count": 55,
   "metadata": {},
   "outputs": [
    {
     "ename": "ValueError",
     "evalue": "invalid literal for int() with base 10: ''",
     "output_type": "error",
     "traceback": [
      "\u001b[1;31m---------------------------------------------------------------------------\u001b[0m",
      "\u001b[1;31mValueError\u001b[0m                                Traceback (most recent call last)",
      "Cell \u001b[1;32mIn[55], line 1\u001b[0m\n\u001b[1;32m----> 1\u001b[0m a \u001b[38;5;241m=\u001b[39m \u001b[38;5;28;43mint\u001b[39;49m\u001b[43m(\u001b[49m\u001b[38;5;28;43minput\u001b[39;49m\u001b[43m(\u001b[49m\u001b[38;5;124;43m'\u001b[39;49m\u001b[38;5;124;43menter number for a\u001b[39;49m\u001b[38;5;124;43m'\u001b[39;49m\u001b[43m)\u001b[49m\u001b[43m)\u001b[49m\n\u001b[0;32m      2\u001b[0m b \u001b[38;5;241m=\u001b[39m \u001b[38;5;28mint\u001b[39m(\u001b[38;5;28minput\u001b[39m(\u001b[38;5;124m'\u001b[39m\u001b[38;5;124menter number for b\u001b[39m\u001b[38;5;124m'\u001b[39m))\n\u001b[0;32m      3\u001b[0m \u001b[38;5;28mprint\u001b[39m(\u001b[38;5;124mf\u001b[39m\u001b[38;5;124m'\u001b[39m\u001b[38;5;124ma=\u001b[39m\u001b[38;5;132;01m{\u001b[39;00ma\u001b[38;5;132;01m}\u001b[39;00m\u001b[38;5;130;01m\\n\u001b[39;00m\u001b[38;5;124mb=\u001b[39m\u001b[38;5;132;01m{\u001b[39;00mb\u001b[38;5;132;01m}\u001b[39;00m\u001b[38;5;124m'\u001b[39m)\n",
      "\u001b[1;31mValueError\u001b[0m: invalid literal for int() with base 10: ''"
     ]
    }
   ],
   "source": [
    "a = int(input('enter number for a'))\n",
    "b = int(input('enter number for b'))\n",
    "print(f'a={a}\\nb={b}')\n",
    "print(f\"a+b={a+b}\")\n",
    "print(f\"a-b={a-b}\")\n",
    "print(f\"a/b={a/b:.3f}\")\n",
    "print(f\"a//b={a//b}\")\n",
    "print(f\"a*b={a*b}\")\n",
    "print(f\"a**b={a**b}\")\n",
    "print(f\"a%b={a%b}\")\n"
   ]
  },
  {
   "cell_type": "code",
   "execution_count": 29,
   "metadata": {},
   "outputs": [
    {
     "name": "stdout",
     "output_type": "stream",
     "text": [
      "12.000\n",
      "12\n",
      "hello\n",
      "3.143413E+06\n"
     ]
    }
   ],
   "source": [
    "print('%.3f'%12)\n",
    "print('%d'%12.5)\n",
    "print('%s'%'hello')\n",
    "print('%E'%3143413)\n"
   ]
  },
  {
   "cell_type": "code",
   "execution_count": 51,
   "metadata": {},
   "outputs": [
    {
     "data": {
      "text/plain": [
       "171"
      ]
     },
     "execution_count": 51,
     "metadata": {},
     "output_type": "execute_result"
    }
   ],
   "source": [
    "0xAB"
   ]
  },
  {
   "cell_type": "code",
   "execution_count": 48,
   "metadata": {},
   "outputs": [
    {
     "data": {
      "text/plain": [
       "10"
      ]
     },
     "execution_count": 48,
     "metadata": {},
     "output_type": "execute_result"
    }
   ],
   "source": [
    "0o12"
   ]
  },
  {
   "cell_type": "code",
   "execution_count": 50,
   "metadata": {},
   "outputs": [
    {
     "data": {
      "text/plain": [
       "4"
      ]
     },
     "execution_count": 50,
     "metadata": {},
     "output_type": "execute_result"
    }
   ],
   "source": [
    "0b100"
   ]
  },
  {
   "cell_type": "code",
   "execution_count": 62,
   "metadata": {},
   "outputs": [],
   "source": [
    "a=9\n",
    "b=10"
   ]
  },
  {
   "cell_type": "code",
   "execution_count": 63,
   "metadata": {},
   "outputs": [
    {
     "name": "stdout",
     "output_type": "stream",
     "text": [
      "a=9\n",
      "b=10\n",
      "a>b=False\n",
      "a<b=True\n",
      "a>=b=False\n",
      "a<=b=True\n",
      "a!=b=True\n",
      "a==b=False\n"
     ]
    }
   ],
   "source": [
    "print(f'a={a}\\nb={b}')\n",
    "print(f\"a>b={a>b}\")\n",
    "print(f\"a<b={a<b}\")\n",
    "print(f\"a>=b={a>=b}\")\n",
    "print(f\"a<=b={a<=b}\")\n",
    "print(f\"a!=b={a!=b}\")\n",
    "print(f\"a==b={a==b}\")\n"
   ]
  },
  {
   "cell_type": "code",
   "execution_count": 65,
   "metadata": {},
   "outputs": [
    {
     "name": "stdout",
     "output_type": "stream",
     "text": [
      "a is less then b\n",
      "end\n"
     ]
    }
   ],
   "source": [
    "if a<b:\n",
    "   print('a is less then b')\n",
    "else:\n",
    "   print('a is greater then b')\n",
    "print('end') \n"
   ]
  },
  {
   "cell_type": "code",
   "execution_count": 66,
   "metadata": {},
   "outputs": [],
   "source": [
    "a=20\n",
    "b=10"
   ]
  },
  {
   "cell_type": "code",
   "execution_count": null,
   "metadata": {},
   "outputs": [],
   "source": [
    "if a<b:\n",
    "   print('a is less then b')\n",
    "elif a==b:\n",
    "   print('a is equal to b')\n",
    "else:\n",
    "   print('a is greater then b')"
   ]
  },
  {
   "cell_type": "code",
   "execution_count": 71,
   "metadata": {},
   "outputs": [
    {
     "name": "stdout",
     "output_type": "stream",
     "text": [
      "you entered 56\n"
     ]
    }
   ],
   "source": [
    "print('you entered',int(input('enter value')))"
   ]
  },
  {
   "cell_type": "code",
   "execution_count": 75,
   "metadata": {},
   "outputs": [
    {
     "name": "stdout",
     "output_type": "stream",
     "text": [
      "now i am in else block\n",
      "0 is zero\n"
     ]
    }
   ],
   "source": [
    "num=int(input('Enter value to check '))\n",
    "if num<0:\n",
    "    print(num,'is negative number')\n",
    "else:\n",
    "    print('now i am in else block')\n",
    "    if num==0:\n",
    "        print(num,'is zero')\n",
    "    else:\n",
    "        print(num,'is positive number')"
   ]
  },
  {
   "cell_type": "code",
   "execution_count": 84,
   "metadata": {},
   "outputs": [
    {
     "data": {
      "text/plain": [
       "0"
      ]
     },
     "execution_count": 84,
     "metadata": {},
     "output_type": "execute_result"
    }
   ],
   "source": [
    "0%2            "
   ]
  },
  {
   "cell_type": "code",
   "execution_count": 85,
   "metadata": {},
   "outputs": [
    {
     "name": "stdout",
     "output_type": "stream",
     "text": [
      "0\n",
      "1\n"
     ]
    }
   ],
   "source": [
    "print(12%2)    #even result is 0\n",
    "print(13%2)    # odd result is 1"
   ]
  },
  {
   "cell_type": "code",
   "execution_count": 90,
   "metadata": {},
   "outputs": [
    {
     "name": "stdout",
     "output_type": "stream",
     "text": [
      "this not a odd nor even\n"
     ]
    }
   ],
   "source": [
    "num = int(input('enter num to check odd or even'))\n",
    "if num==0 or num ==1:\n",
    "    print('this not a odd nor even')\n",
    "else:\n",
    "    if num%2==0:\n",
    "        print('this is even')\n",
    "    else:\n",
    "        print('this is odd')"
   ]
  },
  {
   "cell_type": "markdown",
   "metadata": {},
   "source": [
    "<h3>False values</h3>\n",
    "<pre>\n",
    "''   # Empty String\n",
    "0     # Zero\n",
    "None  # None\n",
    "[] or {} or ()  #Empty non primitive Data Type    "
   ]
  },
  {
   "cell_type": "code",
   "execution_count": 18,
   "metadata": {},
   "outputs": [
    {
     "name": "stdout",
     "output_type": "stream",
     "text": [
      "world\n",
      "this\n"
     ]
    }
   ],
   "source": [
    "if '' or 0 or [] or {} or () or None:\n",
    "    print('hello')\n",
    "else:\n",
    "    print('world')\n",
    "print('this')"
   ]
  },
  {
   "cell_type": "code",
   "execution_count": 28,
   "metadata": {},
   "outputs": [
    {
     "name": "stdout",
     "output_type": "stream",
     "text": [
      "hello\n",
      "this\n"
     ]
    }
   ],
   "source": [
    "if  1<1 or 2<2 or 1>1 or 0<1 :\n",
    "    print('hello')\n",
    "else:\n",
    "    print('world')\n",
    "print('this')"
   ]
  },
  {
   "cell_type": "code",
   "execution_count": 34,
   "metadata": {},
   "outputs": [
    {
     "name": "stdout",
     "output_type": "stream",
     "text": [
      "Invalid input\n"
     ]
    }
   ],
   "source": [
    "x=1\n",
    "y=1\n",
    "if(x!=0 or x!=1 or y!=0 or y!=1):\n",
    "    print(\"Invalid input\")"
   ]
  },
  {
   "cell_type": "code",
   "execution_count": null,
   "metadata": {},
   "outputs": [],
   "source": [
    "[1,2,3,4]"
   ]
  },
  {
   "cell_type": "code",
   "execution_count": 36,
   "metadata": {},
   "outputs": [
    {
     "data": {
      "text/plain": [
       "0.30000000000000004"
      ]
     },
     "execution_count": 36,
     "metadata": {},
     "output_type": "execute_result"
    }
   ],
   "source": [
    "0.10000000000000 + 0.200000000000000000"
   ]
  },
  {
   "cell_type": "code",
   "execution_count": null,
   "metadata": {},
   "outputs": [],
   "source": [
    "year = int(input('enter Year'))\n",
    "if year%400:\n",
    "    print('leap year')\n",
    "else:\n",
    "    if year%4==0:\n",
    "        if year%100!=0:\n",
    "            print('leap Year')\n",
    "        else:\n",
    "            print('not a leap year')\n",
    "    else:\n",
    "        print('not a leap year')"
   ]
  },
  {
   "cell_type": "code",
   "execution_count": null,
   "metadata": {},
   "outputs": [],
   "source": [
    "year = int(input('enter Year'))\n",
    "if (year%400==0) or (year%4==0 and year%100!=0):\n",
    "    print('leap year')       \n",
    "else:\n",
    "    print('not a leap year')"
   ]
  },
  {
   "cell_type": "code",
   "execution_count": 38,
   "metadata": {},
   "outputs": [
    {
     "name": "stdout",
     "output_type": "stream",
     "text": [
      "not a leap year\n"
     ]
    }
   ],
   "source": [
    "year = int(input('enter Year'))\n",
    "\n",
    "if (year%400==0) or (year%4==0 and year%100!=0):\n",
    "    result ='leap year'  \n",
    "else:\n",
    "    result ='not a leap year'\n",
    "print(result)"
   ]
  },
  {
   "cell_type": "code",
   "execution_count": 39,
   "metadata": {},
   "outputs": [
    {
     "data": {
      "text/plain": [
       "'not a leap year'"
      ]
     },
     "execution_count": 39,
     "metadata": {},
     "output_type": "execute_result"
    }
   ],
   "source": [
    "result"
   ]
  },
  {
   "cell_type": "code",
   "execution_count": null,
   "metadata": {},
   "outputs": [],
   "source": [
    "ticket_cost = 100\n",
    "ticket_cost = 10\n",
    "cls = 1\n",
    "cls = 2"
   ]
  },
  {
   "cell_type": "code",
   "execution_count": 44,
   "metadata": {},
   "outputs": [],
   "source": [
    "cls =int(input())\n",
    "if cls == 1:\n",
    "    ticket_cost=100\n",
    "else:\n",
    "    ticket_cost=10"
   ]
  },
  {
   "cell_type": "code",
   "execution_count": 45,
   "metadata": {},
   "outputs": [
    {
     "data": {
      "text/plain": [
       "10"
      ]
     },
     "execution_count": 45,
     "metadata": {},
     "output_type": "execute_result"
    }
   ],
   "source": [
    "cls =int(input())\n",
    "\n",
    "ticket_cost = 100  if cls==1 else 10"
   ]
  },
  {
   "cell_type": "code",
   "execution_count": null,
   "metadata": {},
   "outputs": [],
   "source": [
    "result ='leap year' if (year%400==0) or (year%4==0 and year%100!=0) else 'not a leap year'"
   ]
  },
  {
   "cell_type": "markdown",
   "metadata": {},
   "source": [
    "<h2>\n",
    "LOOP (iterative Statements)\n",
    "</h2>\n",
    "<pre>\n",
    "posible iteration count of any loop can be \n",
    "\n",
    "0\n",
    "n\n",
    "infi\n",
    "\n",
    "\n",
    "while  loop example with countdown from 10 to 1\n",
    "num=10\n",
    "while(num>0):\n",
    "\tprint(num)\n",
    "\tnum = num-1\n",
    "\n",
    "\n",
    "we can control loop with these three steps\n",
    "assignment            #num=10\n",
    "condition             # while (num>0)\n",
    "state change or inrement/decrement          # num=num-1\n",
    "\n",
    "</pre> "
   ]
  },
  {
   "cell_type": "code",
   "execution_count": 6,
   "metadata": {},
   "outputs": [
    {
     "name": "stdout",
     "output_type": "stream",
     "text": [
      "10\n",
      "Loop finished\n",
      "Loop\n"
     ]
    }
   ],
   "source": [
    "num=10\n",
    "while num>9:\n",
    "    print(num)\n",
    "    num-=1\n",
    "else:\n",
    "    print(\"Loop finished\")\n",
    "print('Loop')"
   ]
  },
  {
   "cell_type": "markdown",
   "metadata": {},
   "source": [
    "<h3>\n",
    "Range\n",
    "</h3>\n",
    "\n",
    "<pre>\n",
    "(\n",
    "    start,\n",
    "    stop,   # excluded\n",
    "    step    #distance\n",
    ")\n",
    "(\n",
    "    start,  # assignment\n",
    "    stop,   # condition\n",
    "    step    # state change or incre/decre\n",
    ")\n",
    "\n",
    "</pre>"
   ]
  },
  {
   "cell_type": "code",
   "execution_count": 12,
   "metadata": {},
   "outputs": [
    {
     "name": "stdout",
     "output_type": "stream",
     "text": [
      "<class 'range'>\n"
     ]
    }
   ],
   "source": []
  },
  {
   "cell_type": "code",
   "execution_count": 13,
   "metadata": {},
   "outputs": [
    {
     "name": "stdout",
     "output_type": "stream",
     "text": [
      "1\n",
      "3\n",
      "5\n",
      "7\n",
      "9\n"
     ]
    }
   ],
   "source": [
    "for i in range(1,11,2):\n",
    "    print(i)"
   ]
  },
  {
   "cell_type": "code",
   "execution_count": 17,
   "metadata": {},
   "outputs": [
    {
     "name": "stdout",
     "output_type": "stream",
     "text": [
      "2\n",
      "4\n",
      "6\n",
      "8\n",
      "10\n"
     ]
    }
   ],
   "source": [
    "num=2\n",
    "while num<11:\n",
    "    print(num)\n",
    "    num+=2"
   ]
  },
  {
   "cell_type": "markdown",
   "metadata": {},
   "source": []
  },
  {
   "cell_type": "code",
   "execution_count": 19,
   "metadata": {},
   "outputs": [
    {
     "name": "stdout",
     "output_type": "stream",
     "text": [
      "vwr\n",
      "hi\n",
      "hello\n",
      "this is \n",
      "while\n",
      "loop\n",
      "hello world\n",
      "this\n",
      "exit\n"
     ]
    }
   ],
   "source": [
    "msg=''\n",
    "while msg!='exit':\n",
    "    msg=input('Enter your message: ')\n",
    "    print(msg)"
   ]
  },
  {
   "cell_type": "code",
   "execution_count": 20,
   "metadata": {},
   "outputs": [],
   "source": [
    "msg=input('enter your first msg: ')\n",
    "input_msg=msg\n",
    "while msg!='exit':\n",
    "    msg = input((f'your last msg was {input_msg} what next: '))\n",
    "    input_msg = input_msg + ' '+  msg"
   ]
  },
  {
   "cell_type": "code",
   "execution_count": null,
   "metadata": {},
   "outputs": [],
   "source": [
    "msg=input('enter your first msg: ')                                        #assignment\n",
    "while msg!='exit':                                                         #condition\n",
    "    msg = input((f'your last msg was {msg} what next: '))                  #state change\n",
    "    msg = msg + ' '+  msg"
   ]
  },
  {
   "cell_type": "code",
   "execution_count": 5,
   "metadata": {},
   "outputs": [
    {
     "name": "stdout",
     "output_type": "stream",
     "text": [
      "0\n",
      "1\n",
      "2\n",
      "3\n",
      "4\n"
     ]
    }
   ],
   "source": [
    "for i in range(5):#range(0,5,1)\n",
    "    print(i)"
   ]
  },
  {
   "cell_type": "markdown",
   "metadata": {},
   "source": [
    "<h2>Indexing</h2>\n",
    "\n",
    "<pre>\n",
    "H E L L O   W O R L D\n",
    "0 1 2 3 4 5 6 7 8 9 10           INDEX STARTS WITH 0\n",
    "1 2 3 4 5 6 7 8 9 10 11          LENGTH START WITH 1\n",
    "</pre>"
   ]
  },
  {
   "cell_type": "code",
   "execution_count": 11,
   "metadata": {},
   "outputs": [
    {
     "name": "stdout",
     "output_type": "stream",
     "text": [
      "11\n"
     ]
    },
    {
     "data": {
      "text/plain": [
       "10"
      ]
     },
     "execution_count": 11,
     "metadata": {},
     "output_type": "execute_result"
    }
   ],
   "source": [
    "print(len('HELLO WORLD'))\n",
    "'HELLO WORLD'.index('D')"
   ]
  },
  {
   "cell_type": "markdown",
   "metadata": {},
   "source": [
    "<h2>Iterator</h2>\n",
    "<p>The variable which will hold one value or element of iterable at a time while iterating(traversing)</p>\n",
    "<b>example   i,j,k any variable</b>\n",
    "<h3>Iterable</h3>\n",
    "<p>Iterable is the Main Object Which holds multiple element in a sequence so iterator can iterate</p>\n",
    "<b>example   String, list, Tuple, </b>"
   ]
  },
  {
   "cell_type": "code",
   "execution_count": 13,
   "metadata": {},
   "outputs": [
    {
     "name": "stdout",
     "output_type": "stream",
     "text": [
      "hello world"
     ]
    }
   ],
   "source": [
    "for i in 'hello world':\n",
    "    print(i,end='')"
   ]
  },
  {
   "cell_type": "code",
   "execution_count": 17,
   "metadata": {},
   "outputs": [
    {
     "name": "stdout",
     "output_type": "stream",
     "text": [
      "hi hp how are you\n",
      "hi rm how are you\n",
      "hi sk how are you\n",
      "hi pj how are you\n",
      "hi pi how are you\n",
      "hi su how are you\n"
     ]
    }
   ],
   "source": [
    "a=['hp','rm','sk','pj','pi','su']\n",
    "for i in a:\n",
    "    print('hi '+i+ ' how are you')"
   ]
  },
  {
   "cell_type": "code",
   "execution_count": 43,
   "metadata": {},
   "outputs": [],
   "source": [
    "i =iter('helloworld')"
   ]
  },
  {
   "cell_type": "code",
   "execution_count": 41,
   "metadata": {},
   "outputs": [
    {
     "data": {
      "text/plain": [
       "'d'"
      ]
     },
     "execution_count": 41,
     "metadata": {},
     "output_type": "execute_result"
    }
   ],
   "source": [
    "next(i)"
   ]
  },
  {
   "cell_type": "code",
   "execution_count": 44,
   "metadata": {},
   "outputs": [
    {
     "ename": "TypeError",
     "evalue": "'int' object is not iterable",
     "output_type": "error",
     "traceback": [
      "\u001b[1;31m---------------------------------------------------------------------------\u001b[0m",
      "\u001b[1;31mTypeError\u001b[0m                                 Traceback (most recent call last)",
      "Cell \u001b[1;32mIn[44], line 1\u001b[0m\n\u001b[1;32m----> 1\u001b[0m \u001b[38;5;28;43;01mfor\u001b[39;49;00m\u001b[43m \u001b[49m\u001b[43mi\u001b[49m\u001b[43m \u001b[49m\u001b[38;5;129;43;01min\u001b[39;49;00m\u001b[43m \u001b[49m\u001b[38;5;241;43m10\u001b[39;49m\u001b[43m:\u001b[49m\n\u001b[0;32m      2\u001b[0m \u001b[43m    \u001b[49m\u001b[38;5;28;43mprint\u001b[39;49m\u001b[43m(\u001b[49m\u001b[43mi\u001b[49m\u001b[43m)\u001b[49m\n",
      "\u001b[1;31mTypeError\u001b[0m: 'int' object is not iterable"
     ]
    }
   ],
   "source": [
    "for i in 10:\n",
    "    print(i)"
   ]
  },
  {
   "cell_type": "code",
   "execution_count": 53,
   "metadata": {},
   "outputs": [
    {
     "data": {
      "text/plain": [
       "'4'"
      ]
     },
     "execution_count": 53,
     "metadata": {},
     "output_type": "execute_result"
    }
   ],
   "source": [
    "a='0123456789'\n",
    "a[4]"
   ]
  },
  {
   "cell_type": "code",
   "execution_count": 60,
   "metadata": {},
   "outputs": [
    {
     "name": "stdout",
     "output_type": "stream",
     "text": [
      "hello"
     ]
    }
   ],
   "source": [
    "a='hello world'\n",
    "for i in range(5):\n",
    "    print(a[i],end ='')"
   ]
  },
  {
   "cell_type": "code",
   "execution_count": 62,
   "metadata": {},
   "outputs": [
    {
     "name": "stdout",
     "output_type": "stream",
     "text": [
      "hello\n"
     ]
    }
   ],
   "source": [
    "print(a[0:5]  )             #slice "
   ]
  },
  {
   "cell_type": "code",
   "execution_count": 65,
   "metadata": {},
   "outputs": [
    {
     "name": "stdout",
     "output_type": "stream",
     "text": [
      "0\n"
     ]
    }
   ],
   "source": [
    "print('0')"
   ]
  },
  {
   "cell_type": "code",
   "execution_count": 68,
   "metadata": {},
   "outputs": [
    {
     "name": "stdout",
     "output_type": "stream",
     "text": [
      "0 P\n",
      "1 y\n",
      "2 t\n",
      "3 h\n",
      "4 o\n",
      "5 n\n",
      "6  \n",
      "7 i\n",
      "8 s\n",
      "9  \n",
      "10 a\n",
      "11 w\n",
      "12 e\n",
      "13 s\n",
      "14 o\n",
      "15 m\n",
      "16 e\n"
     ]
    }
   ],
   "source": [
    "b='Python is awesome'\n",
    "for i,v in enumerate(b):\n",
    "    print(i,v)"
   ]
  },
  {
   "cell_type": "code",
   "execution_count": 73,
   "metadata": {},
   "outputs": [
    {
     "name": "stdout",
     "output_type": "stream",
     "text": [
      "awesome"
     ]
    }
   ],
   "source": [
    "for i in range(10,17):\n",
    "    print(b[i],end='')"
   ]
  },
  {
   "cell_type": "code",
   "execution_count": 74,
   "metadata": {},
   "outputs": [
    {
     "data": {
      "text/plain": [
       "'Python is awesome'"
      ]
     },
     "execution_count": 74,
     "metadata": {},
     "output_type": "execute_result"
    }
   ],
   "source": [
    "b"
   ]
  },
  {
   "cell_type": "code",
   "execution_count": 81,
   "metadata": {},
   "outputs": [
    {
     "name": "stdout",
     "output_type": "stream",
     "text": [
      "a w e s o m e "
     ]
    }
   ],
   "source": [
    "b[10]+b[11]+b[12]+b[13]+b[14]+b[15]+b[16]\n",
    "for i in range(10,17):\n",
    "    print(b[i],end=' ')"
   ]
  },
  {
   "cell_type": "code",
   "execution_count": 71,
   "metadata": {},
   "outputs": [
    {
     "name": "stdout",
     "output_type": "stream",
     "text": [
      "Python is some"
     ]
    }
   ],
   "source": [
    "for i,v in enumerate(b):\n",
    "    if i in range(10,13):\n",
    "        continue\n",
    "    else:\n",
    "        print(v,end='')"
   ]
  },
  {
   "cell_type": "code",
   "execution_count": null,
   "metadata": {},
   "outputs": [],
   "source": []
  }
 ],
 "metadata": {
  "kernelspec": {
   "display_name": "Python 3",
   "language": "python",
   "name": "python3"
  },
  "language_info": {
   "codemirror_mode": {
    "name": "ipython",
    "version": 3
   },
   "file_extension": ".py",
   "mimetype": "text/x-python",
   "name": "python",
   "nbconvert_exporter": "python",
   "pygments_lexer": "ipython3",
   "version": "3.12.3"
  }
 },
 "nbformat": 4,
 "nbformat_minor": 2
}
